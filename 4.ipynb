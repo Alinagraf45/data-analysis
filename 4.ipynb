{
 "cells": [
  {
   "cell_type": "markdown",
   "id": "2db2f53d",
   "metadata": {},
   "source": [
    "# Лабораторная работа № 4"
   ]
  },
  {
   "cell_type": "code",
   "execution_count": 1,
   "id": "32cf8078",
   "metadata": {},
   "outputs": [],
   "source": [
    "import pandas\n",
    "import numpy as np\n",
    "import matplotlib.pyplot as plt\n",
    "from sklearn.neighbors import KNeighborsClassifier\n",
    "from sklearn.model_selection import train_test_split\n",
    "from sklearn.linear_model import LogisticRegression\n",
    "from sklearn.preprocessing import StandardScaler\n",
    "from sklearn.ensemble import RandomForestClassifier\n",
    "from sklearn.metrics import roc_curve, roc_auc_score, auc, RocCurveDisplay\n",
    "from sklearn.metrics import confusion_matrix, silhouette_score, precision_score, recall_score,accuracy_score, f1_score, confusion_matrix, balanced_accuracy_score\n",
    "#подключение библиотек"
   ]
  },
  {
   "cell_type": "markdown",
   "id": "1b0b2612",
   "metadata": {},
   "source": [
    "## Анализ предметной области:"
   ]
  },
  {
   "cell_type": "markdown",
   "id": "32a563a6",
   "metadata": {},
   "source": [
    "Датасет 2liver.csv содержит информацию о заболеваемости печени.\n",
    "Столбцы хранят такую информацию, как:\n",
    "\n",
    "1.\tВозраст пациента\n",
    "2.\tПол пациента\n",
    "3.\tОбщий билирубин\n",
    "4.\tПрямой билирубин\n",
    "5.\tЩелочная фосфатаза\n",
    "6.\tАламиноаминотрансфераза\n",
    "7.\tАспартатаминотрансфераза\n",
    "8.\tВсего белков\n",
    "9.\tАльбумин\n",
    "10.\tСоотношение альбуминов и глобулинов\n",
    "11.\tЦель: поле, используемое для разделения данных на два набора (пациент с заболеванием печени или без заболевания).\n",
    "\n",
    "Вывод первых 20 строк набора данных осуществляется с помощью функции head() библиотеки pandas."
   ]
  },
  {
   "cell_type": "code",
   "execution_count": 2,
   "id": "bd893625",
   "metadata": {
    "scrolled": true
   },
   "outputs": [
    {
     "data": {
      "text/html": [
       "<div>\n",
       "<style scoped>\n",
       "    .dataframe tbody tr th:only-of-type {\n",
       "        vertical-align: middle;\n",
       "    }\n",
       "\n",
       "    .dataframe tbody tr th {\n",
       "        vertical-align: top;\n",
       "    }\n",
       "\n",
       "    .dataframe thead th {\n",
       "        text-align: right;\n",
       "    }\n",
       "</style>\n",
       "<table border=\"1\" class=\"dataframe\">\n",
       "  <thead>\n",
       "    <tr style=\"text-align: right;\">\n",
       "      <th></th>\n",
       "      <th>Gender</th>\n",
       "      <th>TotalBilirubin</th>\n",
       "      <th>Direct_Bilirubin</th>\n",
       "      <th>Alkaline_Phosphotase</th>\n",
       "      <th>Alamine_Aminotransferase</th>\n",
       "      <th>Aspartate_Aminotransferase</th>\n",
       "      <th>Total_Protiens</th>\n",
       "      <th>Albumin</th>\n",
       "      <th>Albumin_and_Globulin_Ratio</th>\n",
       "      <th>Dataset123</th>\n",
       "    </tr>\n",
       "    <tr>\n",
       "      <th>Age</th>\n",
       "      <th></th>\n",
       "      <th></th>\n",
       "      <th></th>\n",
       "      <th></th>\n",
       "      <th></th>\n",
       "      <th></th>\n",
       "      <th></th>\n",
       "      <th></th>\n",
       "      <th></th>\n",
       "      <th></th>\n",
       "    </tr>\n",
       "  </thead>\n",
       "  <tbody>\n",
       "    <tr>\n",
       "      <th>65</th>\n",
       "      <td>Female</td>\n",
       "      <td>0.7</td>\n",
       "      <td>0.1</td>\n",
       "      <td>187.0</td>\n",
       "      <td>16</td>\n",
       "      <td>18</td>\n",
       "      <td>6.8</td>\n",
       "      <td>3.3</td>\n",
       "      <td>0.90</td>\n",
       "      <td>1</td>\n",
       "    </tr>\n",
       "    <tr>\n",
       "      <th>62</th>\n",
       "      <td>Male</td>\n",
       "      <td>10.9</td>\n",
       "      <td>5.5</td>\n",
       "      <td>699.0</td>\n",
       "      <td>64</td>\n",
       "      <td>100</td>\n",
       "      <td>7.5</td>\n",
       "      <td>3.2</td>\n",
       "      <td>0.74</td>\n",
       "      <td>1</td>\n",
       "    </tr>\n",
       "    <tr>\n",
       "      <th>62</th>\n",
       "      <td>Male</td>\n",
       "      <td>7.3</td>\n",
       "      <td>4.1</td>\n",
       "      <td>490.0</td>\n",
       "      <td>60</td>\n",
       "      <td>68</td>\n",
       "      <td>7.0</td>\n",
       "      <td>3.3</td>\n",
       "      <td>0.89</td>\n",
       "      <td>1</td>\n",
       "    </tr>\n",
       "    <tr>\n",
       "      <th>58</th>\n",
       "      <td>Male</td>\n",
       "      <td>1.0</td>\n",
       "      <td>0.4</td>\n",
       "      <td>182.0</td>\n",
       "      <td>14</td>\n",
       "      <td>20</td>\n",
       "      <td>6.8</td>\n",
       "      <td>3.4</td>\n",
       "      <td>1.00</td>\n",
       "      <td>1</td>\n",
       "    </tr>\n",
       "    <tr>\n",
       "      <th>72</th>\n",
       "      <td>Male</td>\n",
       "      <td>3.9</td>\n",
       "      <td>2.0</td>\n",
       "      <td>195.0</td>\n",
       "      <td>27</td>\n",
       "      <td>59</td>\n",
       "      <td>7.3</td>\n",
       "      <td>2.4</td>\n",
       "      <td>0.40</td>\n",
       "      <td>1</td>\n",
       "    </tr>\n",
       "    <tr>\n",
       "      <th>46</th>\n",
       "      <td>Male</td>\n",
       "      <td>1.8</td>\n",
       "      <td>0.7</td>\n",
       "      <td>208.0</td>\n",
       "      <td>19</td>\n",
       "      <td>14</td>\n",
       "      <td>7.6</td>\n",
       "      <td>4.4</td>\n",
       "      <td>1.30</td>\n",
       "      <td>1</td>\n",
       "    </tr>\n",
       "    <tr>\n",
       "      <th>26</th>\n",
       "      <td>Female</td>\n",
       "      <td>0.9</td>\n",
       "      <td>0.2</td>\n",
       "      <td>154.0</td>\n",
       "      <td>16</td>\n",
       "      <td>12</td>\n",
       "      <td>7.0</td>\n",
       "      <td>3.5</td>\n",
       "      <td>1.00</td>\n",
       "      <td>1</td>\n",
       "    </tr>\n",
       "    <tr>\n",
       "      <th>29</th>\n",
       "      <td>Female</td>\n",
       "      <td>0.9</td>\n",
       "      <td>0.3</td>\n",
       "      <td>202.0</td>\n",
       "      <td>14</td>\n",
       "      <td>11</td>\n",
       "      <td>6.7</td>\n",
       "      <td>3.6</td>\n",
       "      <td>1.10</td>\n",
       "      <td>1</td>\n",
       "    </tr>\n",
       "    <tr>\n",
       "      <th>17</th>\n",
       "      <td>Male</td>\n",
       "      <td>0.9</td>\n",
       "      <td>0.3</td>\n",
       "      <td>202.0</td>\n",
       "      <td>22</td>\n",
       "      <td>19</td>\n",
       "      <td>7.4</td>\n",
       "      <td>4.1</td>\n",
       "      <td>1.20</td>\n",
       "      <td>2</td>\n",
       "    </tr>\n",
       "    <tr>\n",
       "      <th>55</th>\n",
       "      <td>Male</td>\n",
       "      <td>0.7</td>\n",
       "      <td>0.2</td>\n",
       "      <td>290.0</td>\n",
       "      <td>53</td>\n",
       "      <td>58</td>\n",
       "      <td>6.8</td>\n",
       "      <td>3.4</td>\n",
       "      <td>1.00</td>\n",
       "      <td>1</td>\n",
       "    </tr>\n",
       "    <tr>\n",
       "      <th>57</th>\n",
       "      <td>Male</td>\n",
       "      <td>0.6</td>\n",
       "      <td>0.1</td>\n",
       "      <td>210.0</td>\n",
       "      <td>51</td>\n",
       "      <td>59</td>\n",
       "      <td>5.9</td>\n",
       "      <td>2.7</td>\n",
       "      <td>0.80</td>\n",
       "      <td>1</td>\n",
       "    </tr>\n",
       "    <tr>\n",
       "      <th>72</th>\n",
       "      <td>Male</td>\n",
       "      <td>2.7</td>\n",
       "      <td>1.3</td>\n",
       "      <td>260.0</td>\n",
       "      <td>31</td>\n",
       "      <td>56</td>\n",
       "      <td>7.4</td>\n",
       "      <td>3.0</td>\n",
       "      <td>0.60</td>\n",
       "      <td>1</td>\n",
       "    </tr>\n",
       "    <tr>\n",
       "      <th>64</th>\n",
       "      <td>Male</td>\n",
       "      <td>0.9</td>\n",
       "      <td>0.3</td>\n",
       "      <td>310.0</td>\n",
       "      <td>61</td>\n",
       "      <td>58</td>\n",
       "      <td>7.0</td>\n",
       "      <td>3.4</td>\n",
       "      <td>0.90</td>\n",
       "      <td>2</td>\n",
       "    </tr>\n",
       "    <tr>\n",
       "      <th>74</th>\n",
       "      <td>Female</td>\n",
       "      <td>1.1</td>\n",
       "      <td>0.4</td>\n",
       "      <td>214.0</td>\n",
       "      <td>22</td>\n",
       "      <td>30</td>\n",
       "      <td>8.1</td>\n",
       "      <td>4.1</td>\n",
       "      <td>1.00</td>\n",
       "      <td>1</td>\n",
       "    </tr>\n",
       "    <tr>\n",
       "      <th>61</th>\n",
       "      <td>Male</td>\n",
       "      <td>0.7</td>\n",
       "      <td>0.2</td>\n",
       "      <td>145.0</td>\n",
       "      <td>53</td>\n",
       "      <td>41</td>\n",
       "      <td>5.8</td>\n",
       "      <td>2.7</td>\n",
       "      <td>0.87</td>\n",
       "      <td>1</td>\n",
       "    </tr>\n",
       "    <tr>\n",
       "      <th>25</th>\n",
       "      <td>Male</td>\n",
       "      <td>0.6</td>\n",
       "      <td>0.1</td>\n",
       "      <td>183.0</td>\n",
       "      <td>91</td>\n",
       "      <td>53</td>\n",
       "      <td>5.5</td>\n",
       "      <td>2.3</td>\n",
       "      <td>0.70</td>\n",
       "      <td>2</td>\n",
       "    </tr>\n",
       "    <tr>\n",
       "      <th>38</th>\n",
       "      <td>Male</td>\n",
       "      <td>1.8</td>\n",
       "      <td>0.8</td>\n",
       "      <td>342.0</td>\n",
       "      <td>168</td>\n",
       "      <td>441</td>\n",
       "      <td>7.6</td>\n",
       "      <td>4.4</td>\n",
       "      <td>1.30</td>\n",
       "      <td>1</td>\n",
       "    </tr>\n",
       "    <tr>\n",
       "      <th>33</th>\n",
       "      <td>Male</td>\n",
       "      <td>1.6</td>\n",
       "      <td>0.5</td>\n",
       "      <td>165.0</td>\n",
       "      <td>15</td>\n",
       "      <td>23</td>\n",
       "      <td>7.3</td>\n",
       "      <td>3.5</td>\n",
       "      <td>0.92</td>\n",
       "      <td>2</td>\n",
       "    </tr>\n",
       "    <tr>\n",
       "      <th>40</th>\n",
       "      <td>Female</td>\n",
       "      <td>0.9</td>\n",
       "      <td>0.3</td>\n",
       "      <td>293.0</td>\n",
       "      <td>232</td>\n",
       "      <td>245</td>\n",
       "      <td>6.8</td>\n",
       "      <td>3.1</td>\n",
       "      <td>0.80</td>\n",
       "      <td>1</td>\n",
       "    </tr>\n",
       "    <tr>\n",
       "      <th>40</th>\n",
       "      <td>Female</td>\n",
       "      <td>0.9</td>\n",
       "      <td>0.3</td>\n",
       "      <td>293.0</td>\n",
       "      <td>232</td>\n",
       "      <td>245</td>\n",
       "      <td>6.8</td>\n",
       "      <td>3.1</td>\n",
       "      <td>0.80</td>\n",
       "      <td>1</td>\n",
       "    </tr>\n",
       "  </tbody>\n",
       "</table>\n",
       "</div>"
      ],
      "text/plain": [
       "     Gender  TotalBilirubin  Direct_Bilirubin  Alkaline_Phosphotase  \\\n",
       "Age                                                                   \n",
       "65   Female             0.7               0.1                 187.0   \n",
       "62     Male            10.9               5.5                 699.0   \n",
       "62     Male             7.3               4.1                 490.0   \n",
       "58     Male             1.0               0.4                 182.0   \n",
       "72     Male             3.9               2.0                 195.0   \n",
       "46     Male             1.8               0.7                 208.0   \n",
       "26   Female             0.9               0.2                 154.0   \n",
       "29   Female             0.9               0.3                 202.0   \n",
       "17     Male             0.9               0.3                 202.0   \n",
       "55     Male             0.7               0.2                 290.0   \n",
       "57     Male             0.6               0.1                 210.0   \n",
       "72     Male             2.7               1.3                 260.0   \n",
       "64     Male             0.9               0.3                 310.0   \n",
       "74   Female             1.1               0.4                 214.0   \n",
       "61     Male             0.7               0.2                 145.0   \n",
       "25     Male             0.6               0.1                 183.0   \n",
       "38     Male             1.8               0.8                 342.0   \n",
       "33     Male             1.6               0.5                 165.0   \n",
       "40   Female             0.9               0.3                 293.0   \n",
       "40   Female             0.9               0.3                 293.0   \n",
       "\n",
       "     Alamine_Aminotransferase Aspartate_Aminotransferase  Total_Protiens  \\\n",
       "Age                                                                        \n",
       "65                         16                         18             6.8   \n",
       "62                         64                        100             7.5   \n",
       "62                         60                         68             7.0   \n",
       "58                         14                         20             6.8   \n",
       "72                         27                         59             7.3   \n",
       "46                         19                         14             7.6   \n",
       "26                         16                         12             7.0   \n",
       "29                         14                         11             6.7   \n",
       "17                         22                         19             7.4   \n",
       "55                         53                         58             6.8   \n",
       "57                         51                         59             5.9   \n",
       "72                         31                         56             7.4   \n",
       "64                         61                         58             7.0   \n",
       "74                         22                         30             8.1   \n",
       "61                         53                         41             5.8   \n",
       "25                         91                         53             5.5   \n",
       "38                        168                        441             7.6   \n",
       "33                         15                         23             7.3   \n",
       "40                        232                        245             6.8   \n",
       "40                        232                        245             6.8   \n",
       "\n",
       "     Albumin  Albumin_and_Globulin_Ratio Dataset123  \n",
       "Age                                                  \n",
       "65       3.3                        0.90          1  \n",
       "62       3.2                        0.74          1  \n",
       "62       3.3                        0.89          1  \n",
       "58       3.4                        1.00          1  \n",
       "72       2.4                        0.40          1  \n",
       "46       4.4                        1.30          1  \n",
       "26       3.5                        1.00          1  \n",
       "29       3.6                        1.10          1  \n",
       "17       4.1                        1.20          2  \n",
       "55       3.4                        1.00          1  \n",
       "57       2.7                        0.80          1  \n",
       "72       3.0                        0.60          1  \n",
       "64       3.4                        0.90          2  \n",
       "74       4.1                        1.00          1  \n",
       "61       2.7                        0.87          1  \n",
       "25       2.3                        0.70          2  \n",
       "38       4.4                        1.30          1  \n",
       "33       3.5                        0.92          2  \n",
       "40       3.1                        0.80          1  \n",
       "40       3.1                        0.80          1  "
      ]
     },
     "metadata": {},
     "output_type": "display_data"
    }
   ],
   "source": [
    "df = pandas.read_csv('C:\\\\Users\\\\Alina\\\\OneDrive\\\\Рабочий стол\\\\андан\\\\liver.csv',index_col=0)\n",
    "#полученые данных из файла с датасетом в переменнную df\n",
    "display(df.head(20))\n",
    "#вывод первых 20 значений датасета"
   ]
  },
  {
   "cell_type": "markdown",
   "id": "9d51d03d",
   "metadata": {},
   "source": [
    "Предметной областью анализа является набор данных с биомедицинской информацией о заболевании печени. В датасете содержатся результаты анализов, показывающие состояние печени пациента, на основании которых сделаны выводы о том, что человек болен или здоров."
   ]
  },
  {
   "cell_type": "markdown",
   "id": "20aaf2f7",
   "metadata": {},
   "source": [
    "Метод describe () используется для вычисления некоторых статистических данных, таких как процентиль, среднее значение и стандартное отклонение различных числовых значений датафрейма."
   ]
  },
  {
   "cell_type": "code",
   "execution_count": 3,
   "id": "f417d59a",
   "metadata": {},
   "outputs": [
    {
     "data": {
      "text/html": [
       "<div>\n",
       "<style scoped>\n",
       "    .dataframe tbody tr th:only-of-type {\n",
       "        vertical-align: middle;\n",
       "    }\n",
       "\n",
       "    .dataframe tbody tr th {\n",
       "        vertical-align: top;\n",
       "    }\n",
       "\n",
       "    .dataframe thead th {\n",
       "        text-align: right;\n",
       "    }\n",
       "</style>\n",
       "<table border=\"1\" class=\"dataframe\">\n",
       "  <thead>\n",
       "    <tr style=\"text-align: right;\">\n",
       "      <th></th>\n",
       "      <th>TotalBilirubin</th>\n",
       "      <th>Direct_Bilirubin</th>\n",
       "      <th>Alkaline_Phosphotase</th>\n",
       "      <th>Alamine_Aminotransferase</th>\n",
       "      <th>Total_Protiens</th>\n",
       "      <th>Albumin</th>\n",
       "      <th>Albumin_and_Globulin_Ratio</th>\n",
       "    </tr>\n",
       "  </thead>\n",
       "  <tbody>\n",
       "    <tr>\n",
       "      <th>count</th>\n",
       "      <td>585.000000</td>\n",
       "      <td>587.000000</td>\n",
       "      <td>586.000000</td>\n",
       "      <td>587.000000</td>\n",
       "      <td>587.000000</td>\n",
       "      <td>587.000000</td>\n",
       "      <td>583.000000</td>\n",
       "    </tr>\n",
       "    <tr>\n",
       "      <th>mean</th>\n",
       "      <td>3.284957</td>\n",
       "      <td>1.477342</td>\n",
       "      <td>289.965870</td>\n",
       "      <td>80.354344</td>\n",
       "      <td>6.484327</td>\n",
       "      <td>3.146337</td>\n",
       "      <td>0.949485</td>\n",
       "    </tr>\n",
       "    <tr>\n",
       "      <th>std</th>\n",
       "      <td>6.201583</td>\n",
       "      <td>2.800911</td>\n",
       "      <td>242.504304</td>\n",
       "      <td>182.048677</td>\n",
       "      <td>1.083160</td>\n",
       "      <td>0.796194</td>\n",
       "      <td>0.320253</td>\n",
       "    </tr>\n",
       "    <tr>\n",
       "      <th>min</th>\n",
       "      <td>0.400000</td>\n",
       "      <td>0.100000</td>\n",
       "      <td>63.000000</td>\n",
       "      <td>10.000000</td>\n",
       "      <td>2.700000</td>\n",
       "      <td>0.900000</td>\n",
       "      <td>0.300000</td>\n",
       "    </tr>\n",
       "    <tr>\n",
       "      <th>25%</th>\n",
       "      <td>0.800000</td>\n",
       "      <td>0.200000</td>\n",
       "      <td>175.250000</td>\n",
       "      <td>23.000000</td>\n",
       "      <td>5.800000</td>\n",
       "      <td>2.600000</td>\n",
       "      <td>0.700000</td>\n",
       "    </tr>\n",
       "    <tr>\n",
       "      <th>50%</th>\n",
       "      <td>1.000000</td>\n",
       "      <td>0.300000</td>\n",
       "      <td>208.000000</td>\n",
       "      <td>35.000000</td>\n",
       "      <td>6.600000</td>\n",
       "      <td>3.100000</td>\n",
       "      <td>0.950000</td>\n",
       "    </tr>\n",
       "    <tr>\n",
       "      <th>75%</th>\n",
       "      <td>2.600000</td>\n",
       "      <td>1.300000</td>\n",
       "      <td>298.000000</td>\n",
       "      <td>60.000000</td>\n",
       "      <td>7.200000</td>\n",
       "      <td>3.800000</td>\n",
       "      <td>1.100000</td>\n",
       "    </tr>\n",
       "    <tr>\n",
       "      <th>max</th>\n",
       "      <td>75.000000</td>\n",
       "      <td>19.700000</td>\n",
       "      <td>2110.000000</td>\n",
       "      <td>2000.000000</td>\n",
       "      <td>9.600000</td>\n",
       "      <td>5.500000</td>\n",
       "      <td>2.800000</td>\n",
       "    </tr>\n",
       "  </tbody>\n",
       "</table>\n",
       "</div>"
      ],
      "text/plain": [
       "       TotalBilirubin  Direct_Bilirubin  Alkaline_Phosphotase  \\\n",
       "count      585.000000        587.000000            586.000000   \n",
       "mean         3.284957          1.477342            289.965870   \n",
       "std          6.201583          2.800911            242.504304   \n",
       "min          0.400000          0.100000             63.000000   \n",
       "25%          0.800000          0.200000            175.250000   \n",
       "50%          1.000000          0.300000            208.000000   \n",
       "75%          2.600000          1.300000            298.000000   \n",
       "max         75.000000         19.700000           2110.000000   \n",
       "\n",
       "       Alamine_Aminotransferase  Total_Protiens     Albumin  \\\n",
       "count                587.000000      587.000000  587.000000   \n",
       "mean                  80.354344        6.484327    3.146337   \n",
       "std                  182.048677        1.083160    0.796194   \n",
       "min                   10.000000        2.700000    0.900000   \n",
       "25%                   23.000000        5.800000    2.600000   \n",
       "50%                   35.000000        6.600000    3.100000   \n",
       "75%                   60.000000        7.200000    3.800000   \n",
       "max                 2000.000000        9.600000    5.500000   \n",
       "\n",
       "       Albumin_and_Globulin_Ratio  \n",
       "count                  583.000000  \n",
       "mean                     0.949485  \n",
       "std                      0.320253  \n",
       "min                      0.300000  \n",
       "25%                      0.700000  \n",
       "50%                      0.950000  \n",
       "75%                      1.100000  \n",
       "max                      2.800000  "
      ]
     },
     "execution_count": 3,
     "metadata": {},
     "output_type": "execute_result"
    }
   ],
   "source": [
    "df.describe()\n",
    "# создание описательной статистики"
   ]
  },
  {
   "cell_type": "markdown",
   "id": "92dec9cc",
   "metadata": {},
   "source": [
    " *С помощью данного метода можно сделать вывод о числовых данных каждого отдельного столбца. \n",
    "Например, средний возраст пациентов 45 лет, наименьший возраст - 4 года, а наибольший - 90 лет. Также, в датафрейме большее количество людей с заболеванием печени, так как среднее значение столбца здоровья 1.28.*"
   ]
  },
  {
   "cell_type": "markdown",
   "id": "c45854d1",
   "metadata": {},
   "source": [
    "## Предобработка данных:"
   ]
  },
  {
   "cell_type": "code",
   "execution_count": 4,
   "id": "b66d9005",
   "metadata": {},
   "outputs": [
    {
     "name": "stdout",
     "output_type": "stream",
     "text": [
      "<class 'pandas.core.frame.DataFrame'>\n",
      "Int64Index: 587 entries, 65 to 40\n",
      "Data columns (total 10 columns):\n",
      " #   Column                      Non-Null Count  Dtype  \n",
      "---  ------                      --------------  -----  \n",
      " 0   Gender                      587 non-null    object \n",
      " 1   TotalBilirubin              585 non-null    float64\n",
      " 2   Direct_Bilirubin            587 non-null    float64\n",
      " 3   Alkaline_Phosphotase        586 non-null    float64\n",
      " 4   Alamine_Aminotransferase    587 non-null    int64  \n",
      " 5   Aspartate_Aminotransferase  587 non-null    object \n",
      " 6   Total_Protiens              587 non-null    float64\n",
      " 7   Albumin                     587 non-null    float64\n",
      " 8   Albumin_and_Globulin_Ratio  583 non-null    float64\n",
      " 9   Dataset123                  587 non-null    object \n",
      "dtypes: float64(6), int64(1), object(3)\n",
      "memory usage: 50.4+ KB\n"
     ]
    }
   ],
   "source": [
    "df.info()\n",
    "#оценка данных и пропущенных значений"
   ]
  },
  {
   "cell_type": "markdown",
   "id": "d77103c9",
   "metadata": {},
   "source": [
    "По результатам использования метода info() для оценки данных можно сделать вывод, что столбец TotalBilirubin, Alkaline_Phosphotase и Albumin_and_Globulin_Ratio имеют пропущенные значения, а значения столбеца Dataset123 и Aspartate_Aminotransferase имеют неправильный тип данных."
   ]
  },
  {
   "cell_type": "code",
   "execution_count": 5,
   "id": "5372bd6d",
   "metadata": {},
   "outputs": [
    {
     "data": {
      "text/plain": [
       "Index(['Gender', 'TotalBilirubin', 'Direct_Bilirubin', 'Alkaline_Phosphotase',\n",
       "       'Alamine_Aminotransferase', 'Aspartate_Aminotransferase',\n",
       "       'Total_Protiens', 'Albumin', 'Albumin_and_Globulin_Ratio',\n",
       "       'Dataset123'],\n",
       "      dtype='object')"
      ]
     },
     "execution_count": 5,
     "metadata": {},
     "output_type": "execute_result"
    }
   ],
   "source": [
    "df.columns\n",
    "#названия столбцов для проверки на корректность"
   ]
  },
  {
   "cell_type": "markdown",
   "id": "f5912754",
   "metadata": {},
   "source": [
    "Названия данных столбцов не точно отображают содержимое данных столбцов, а также, для наглядности необходимо, чтобы названия были указаны в змеином регистре, поэтому для изменений названий нужно воспользоваться методом rename()."
   ]
  },
  {
   "cell_type": "code",
   "execution_count": 6,
   "id": "7ded4b9a",
   "metadata": {},
   "outputs": [],
   "source": [
    "df = df.rename(columns={'Age':'age', 'Gender': 'gender', 'TotalBilirubin': 'total_bilirubin', 'Direct_Bilirubin': 'direct_bilirubin', \n",
    "                        'Alkaline_Phosphotase':'alkaline_phosphotase','Alamine_Aminotransferase': 'alamine_aminotransferase',\n",
    "                        'Aspartate_Aminotransferase': 'aspartate_aminotransferase','Total_Protiens': 'total_protiens',\n",
    "                        'Albumin': 'albumin','Albumin_and_Globulin_Ratio': 'albumin_and_globulin_ratio', \n",
    "                        'Dataset123': 'healthy'})\n",
    "#изменение названая столбцов"
   ]
  },
  {
   "cell_type": "markdown",
   "id": "e0d67a48",
   "metadata": {},
   "source": [
    "Далее требуется проверить изменения в названии столбцов методом columns."
   ]
  },
  {
   "cell_type": "code",
   "execution_count": 7,
   "id": "f2fe615f",
   "metadata": {},
   "outputs": [
    {
     "data": {
      "text/plain": [
       "Index(['gender', 'total_bilirubin', 'direct_bilirubin', 'alkaline_phosphotase',\n",
       "       'alamine_aminotransferase', 'aspartate_aminotransferase',\n",
       "       'total_protiens', 'albumin', 'albumin_and_globulin_ratio', 'healthy'],\n",
       "      dtype='object')"
      ]
     },
     "execution_count": 7,
     "metadata": {},
     "output_type": "execute_result"
    }
   ],
   "source": [
    "df.columns\n",
    "#названия столбцов для проверки на корректность"
   ]
  },
  {
   "cell_type": "markdown",
   "id": "6fd68006",
   "metadata": {},
   "source": [
    "Проверка пропущенных значений осуществляется с помощью метода isna(), а isna().sum() находит сумму пропущенных значений по столбцам."
   ]
  },
  {
   "cell_type": "code",
   "execution_count": 8,
   "id": "04e02d45",
   "metadata": {},
   "outputs": [
    {
     "name": "stdout",
     "output_type": "stream",
     "text": [
      "gender                        0\n",
      "total_bilirubin               2\n",
      "direct_bilirubin              0\n",
      "alkaline_phosphotase          1\n",
      "alamine_aminotransferase      0\n",
      "aspartate_aminotransferase    0\n",
      "total_protiens                0\n",
      "albumin                       0\n",
      "albumin_and_globulin_ratio    4\n",
      "healthy                       0\n",
      "dtype: int64\n"
     ]
    }
   ],
   "source": [
    "print(df.isna().sum())\n",
    "#сумма пропущенных значений по столбцам"
   ]
  },
  {
   "cell_type": "markdown",
   "id": "b3b454bf",
   "metadata": {},
   "source": [
    "Нужно удалить все строки со значениями NaN, используя метод dropna(), который удаляет все строки со значениями NaN.  Удаление данных не повлияет на итоговые значения анализа, так как пропущенные значения являются незначительной долей данных в датасете."
   ]
  },
  {
   "cell_type": "code",
   "execution_count": 9,
   "id": "549a9eb0",
   "metadata": {},
   "outputs": [
    {
     "name": "stdout",
     "output_type": "stream",
     "text": [
      "gender                        0\n",
      "total_bilirubin               0\n",
      "direct_bilirubin              0\n",
      "alkaline_phosphotase          0\n",
      "alamine_aminotransferase      0\n",
      "aspartate_aminotransferase    0\n",
      "total_protiens                0\n",
      "albumin                       0\n",
      "albumin_and_globulin_ratio    0\n",
      "healthy                       0\n",
      "dtype: int64\n"
     ]
    }
   ],
   "source": [
    "df = df.dropna()\n",
    "#удаление отсутствующих значений\n",
    "print(df.isna().sum())\n",
    "#проверка наличия отсутствующих значений"
   ]
  },
  {
   "cell_type": "markdown",
   "id": "5b47e3e3",
   "metadata": {},
   "source": [
    "Сумма пропущенных значений по всем столбцам равна нулю, что означает, что все пропущенные значения были удалены. "
   ]
  },
  {
   "cell_type": "markdown",
   "id": "b79375f1",
   "metadata": {},
   "source": [
    "Также необходимо проверить данные на наличие дубликатов, используя метод duplicated().sum() "
   ]
  },
  {
   "cell_type": "code",
   "execution_count": 10,
   "id": "92572e3c",
   "metadata": {},
   "outputs": [
    {
     "name": "stdout",
     "output_type": "stream",
     "text": [
      "15\n"
     ]
    }
   ],
   "source": [
    "print(df.duplicated().sum())\n",
    "#проверка наличия дубликатов"
   ]
  },
  {
   "cell_type": "markdown",
   "id": "cad12b34",
   "metadata": {},
   "source": [
    "Так как дубликаты присутствуют, необходимо их удалить с помощью метода drop_duplicates(). Удаление данных не повлияет на итоговые значения анализа, так как дубликаты являются незначительной долей данных в датасете (доля 0.025 от всего датасета). "
   ]
  },
  {
   "cell_type": "code",
   "execution_count": 11,
   "id": "4f2f381f",
   "metadata": {},
   "outputs": [
    {
     "name": "stdout",
     "output_type": "stream",
     "text": [
      "0\n"
     ]
    }
   ],
   "source": [
    "df = df.drop_duplicates()\n",
    "#удаление дубликатов\n",
    "print(df.duplicated().sum())\n",
    "#проверка наличия дубликатов после удаления"
   ]
  },
  {
   "cell_type": "markdown",
   "id": "2311a761",
   "metadata": {},
   "source": [
    "Удаление выполнено успешно, так как повторяющихся данных не осталось. После удаления строчек нужно обновить индексацию, чтобы в ней не осталось пропусков, используя метод reset_index(). Он создаст новый датафрейм, где индексы исходного датафрейма станут новой колонкой с названием index и все строки получат обычные индексы, но уже без пропусков."
   ]
  },
  {
   "cell_type": "code",
   "execution_count": 12,
   "id": "664ab6e2",
   "metadata": {},
   "outputs": [],
   "source": [
    "df = df.drop_duplicates().reset_index()\n",
    "#обновление индексации"
   ]
  },
  {
   "cell_type": "markdown",
   "id": "3c786384",
   "metadata": {},
   "source": [
    "Далее необходимо воспользоваться методом info() для проверки корректности типов данных по столбцам."
   ]
  },
  {
   "cell_type": "code",
   "execution_count": 13,
   "id": "a0cbabbd",
   "metadata": {},
   "outputs": [
    {
     "name": "stdout",
     "output_type": "stream",
     "text": [
      "<class 'pandas.core.frame.DataFrame'>\n",
      "RangeIndex: 565 entries, 0 to 564\n",
      "Data columns (total 11 columns):\n",
      " #   Column                      Non-Null Count  Dtype  \n",
      "---  ------                      --------------  -----  \n",
      " 0   Age                         565 non-null    int64  \n",
      " 1   gender                      565 non-null    object \n",
      " 2   total_bilirubin             565 non-null    float64\n",
      " 3   direct_bilirubin            565 non-null    float64\n",
      " 4   alkaline_phosphotase        565 non-null    float64\n",
      " 5   alamine_aminotransferase    565 non-null    int64  \n",
      " 6   aspartate_aminotransferase  565 non-null    object \n",
      " 7   total_protiens              565 non-null    float64\n",
      " 8   albumin                     565 non-null    float64\n",
      " 9   albumin_and_globulin_ratio  565 non-null    float64\n",
      " 10  healthy                     565 non-null    object \n",
      "dtypes: float64(6), int64(2), object(3)\n",
      "memory usage: 48.7+ KB\n"
     ]
    }
   ],
   "source": [
    "df.info()\n",
    "#проверка типов данных"
   ]
  },
  {
   "cell_type": "markdown",
   "id": "faaf5446",
   "metadata": {},
   "source": [
    "По результатам проверки можно сделать вывод, что некоторые колонки имеют неправильный тип данных, который необходимо изменить для упрощения дальнейшей работы с данными. Для замены типа данных нужно воспользоваться методом astype()."
   ]
  },
  {
   "cell_type": "markdown",
   "id": "69e3b8fa",
   "metadata": {},
   "source": [
    "Столбец 'aspartate_aminotransferase' имеет строковый тип данных, который невозможно изменить из-за некорректного значения в одной из строк. Для этого значение нужно изменить с помощью метода replace(). Аналогично столбец 'healthy' вместо числовых значений в одной из строк содержит значение 'yes'.\n"
   ]
  },
  {
   "cell_type": "code",
   "execution_count": 14,
   "id": "e9cd3857",
   "metadata": {},
   "outputs": [],
   "source": [
    "df['aspartate_aminotransferase'] = df['aspartate_aminotransferase'].replace('3a4', '34')\n",
    "df['healthy'] = df['healthy'].replace('yes', '1')\n",
    "#обработка некорректного значения данных"
   ]
  },
  {
   "cell_type": "markdown",
   "id": "778b2ff4",
   "metadata": {},
   "source": [
    "Теперь строковый тип данных можно изменить на числовой без ошибок."
   ]
  },
  {
   "cell_type": "code",
   "execution_count": 15,
   "id": "a82dcf6a",
   "metadata": {},
   "outputs": [
    {
     "name": "stdout",
     "output_type": "stream",
     "text": [
      "<class 'pandas.core.frame.DataFrame'>\n",
      "RangeIndex: 565 entries, 0 to 564\n",
      "Data columns (total 11 columns):\n",
      " #   Column                      Non-Null Count  Dtype  \n",
      "---  ------                      --------------  -----  \n",
      " 0   Age                         565 non-null    int64  \n",
      " 1   gender                      565 non-null    object \n",
      " 2   total_bilirubin             565 non-null    float64\n",
      " 3   direct_bilirubin            565 non-null    float64\n",
      " 4   alkaline_phosphotase        565 non-null    float64\n",
      " 5   alamine_aminotransferase    565 non-null    int64  \n",
      " 6   aspartate_aminotransferase  565 non-null    int32  \n",
      " 7   total_protiens              565 non-null    float64\n",
      " 8   albumin                     565 non-null    float64\n",
      " 9   albumin_and_globulin_ratio  565 non-null    float64\n",
      " 10  healthy                     565 non-null    int32  \n",
      "dtypes: float64(6), int32(2), int64(2), object(1)\n",
      "memory usage: 44.3+ KB\n"
     ]
    }
   ],
   "source": [
    "df['aspartate_aminotransferase'] = df['aspartate_aminotransferase'].astype('int')\n",
    "df['healthy'] = df['healthy'].astype('int')\n",
    "#изменеие типов данных\n",
    "df.info()\n",
    "#проверка типов данных"
   ]
  },
  {
   "cell_type": "markdown",
   "id": "b728d22f",
   "metadata": {},
   "source": [
    "Осуществить поиск неявных дубликатов можно с помощью метода unique()."
   ]
  },
  {
   "cell_type": "code",
   "execution_count": 16,
   "id": "3feb17d6",
   "metadata": {},
   "outputs": [
    {
     "name": "stdout",
     "output_type": "stream",
     "text": [
      "['Female' 'Male' 'Mal']\n"
     ]
    }
   ],
   "source": [
    "for i in range(1, 11):\n",
    "    a = df.columns[i]\n",
    "    if df.dtypes[i] == 'object':\n",
    "        print(df[a].unique())\n",
    "#поиск неявных дубликатов по строковым значениям"
   ]
  },
  {
   "cell_type": "markdown",
   "id": "0036d7e7",
   "metadata": {},
   "source": [
    "Найдены неявные дубликаты 'Male' и 'Mal', необходимо отредактировать опечатку для получения корректных данных."
   ]
  },
  {
   "cell_type": "code",
   "execution_count": 17,
   "id": "5b3c04d4",
   "metadata": {},
   "outputs": [],
   "source": [
    "df['gender'] = df['gender'].replace('Mal', 'Male')\n",
    "#обработка некорректного значения данных"
   ]
  },
  {
   "cell_type": "markdown",
   "id": "bcd86ea8",
   "metadata": {},
   "source": [
    "Необходимо убедиться в отсутсвии неявных дубликатов."
   ]
  },
  {
   "cell_type": "code",
   "execution_count": 18,
   "id": "c665aba0",
   "metadata": {},
   "outputs": [
    {
     "name": "stdout",
     "output_type": "stream",
     "text": [
      "['Female' 'Male']\n"
     ]
    }
   ],
   "source": [
    "for i in range(1, 11):\n",
    "    a = df.columns[i]\n",
    "    if df.dtypes[i] == 'object':\n",
    "        print(df[a].unique())\n",
    "#проверка наличия неявных дубликатов после обработки"
   ]
  },
  {
   "cell_type": "markdown",
   "id": "4348735b",
   "metadata": {},
   "source": [
    "## Разбиение набора данных на тренировочной и тестовый датасеты:"
   ]
  },
  {
   "cell_type": "markdown",
   "id": "5858ec60",
   "metadata": {},
   "source": [
    "Необходимо разделить данные на тренировочные и тестовые, используя train_test_split. Перед этим необходимо подготовить данные, убрав строковые значения. \n",
    "\n",
    "Параметр random_state позволяет получить воспроизводимые результаты при повторном запуске программы. "
   ]
  },
  {
   "cell_type": "code",
   "execution_count": 19,
   "id": "32669db7",
   "metadata": {},
   "outputs": [],
   "source": [
    "rng = np.random.RandomState(0) # получение воспроизводимых результатов\n",
    "new_df = df.drop(['gender'], axis = 1) # убираем строковые значения"
   ]
  },
  {
   "cell_type": "markdown",
   "id": "775956e5",
   "metadata": {},
   "source": [
    "Необходимо подготовить данные, убрав строковые значения и целевой параметр здоровья. X — это все данные с их характеристиками, а Y — соответствующее выходное значение, которое необходимо предсказать."
   ]
  },
  {
   "cell_type": "markdown",
   "id": "23fe723e",
   "metadata": {},
   "source": [
    "Чтобы задать матрицу объект-признак X и вектор целевой переменной y, применим метод drop() библиотеки Pandas. Параметр axis = 1 указывает, что избавиться нужно именно от колонки."
   ]
  },
  {
   "cell_type": "code",
   "execution_count": 20,
   "id": "abe85dbc",
   "metadata": {},
   "outputs": [],
   "source": [
    "df_1, df_2 = train_test_split(new_df, shuffle=False)\n",
    "Y = df_1['healthy'] # целевой параметр\n",
    "X = df_1.drop(['healthy'], axis=1) # датасет без целевого парамера здоровья\n",
    "x_train,x_test,y_train,y_test = train_test_split(X, Y, train_size=0.9, random_state=rng) \n",
    "# разиваем первый датасет на тестовые и тренировочные данные"
   ]
  },
  {
   "cell_type": "markdown",
   "id": "92795ea2",
   "metadata": {},
   "source": [
    "Также необохдимо стандартизировать данные: для каждого наблюдения из исходного значения признака вычитается среднее, а полученная разность делится на стандартное отклонение."
   ]
  },
  {
   "cell_type": "code",
   "execution_count": 21,
   "id": "3587c2a0",
   "metadata": {},
   "outputs": [],
   "source": [
    "sc = StandardScaler() # создаётся объект класса scaler\n",
    "# стандартизация тренировочных и тестовых данных перед работой с алгоритмами\n",
    "x_train = sc.fit_transform(x_train) # стандартизация\n",
    "x_test = sc.fit_transform(x_test) "
   ]
  },
  {
   "cell_type": "markdown",
   "id": "d0cdf479",
   "metadata": {},
   "source": [
    "## Метод k-ближайших соседей:"
   ]
  },
  {
   "cell_type": "markdown",
   "id": "56f996f4",
   "metadata": {},
   "source": [
    "Метод ближайших соседей — простейший метрический классификатор, основанный на оценивании сходства объектов. Классифицируемый объект относится к тому классу, которому принадлежат ближайшие к нему объекты обучающей выборки."
   ]
  },
  {
   "cell_type": "markdown",
   "id": "6d182bcb",
   "metadata": {},
   "source": [
    "Метод осуществляется с помощью функции KNeighborsClassifier() библиотеки scipy, с указанием параметра количества соседей n_neighbors, по умолчанию это значение равно 5."
   ]
  },
  {
   "cell_type": "code",
   "execution_count": 22,
   "id": "140c8961",
   "metadata": {},
   "outputs": [],
   "source": [
    "neighbors = KNeighborsClassifier(n_neighbors=7) # классификатор, реализующий метод k-ближайших соседей\n",
    "pr = neighbors.fit(x_train,y_train).predict(x_test) # применяем алгоритм к данным и формируем вектор кластеров"
   ]
  },
  {
   "cell_type": "markdown",
   "id": "8a1aed04",
   "metadata": {},
   "source": [
    "Необходимо использовать функцию confusion_matrix() для оценки точности классификации. Это особый вид таблицы непредвиденных обстоятельств с двумя измерениями («фактическое» и «прогнозируемое») и идентичными наборами «классов» в обоих измерениях (каждая комбинация измерения и class - это переменная в таблице непредвиденных обстоятельств). Метод .ravel() позволяет преобразовать матрицу к сводному (одномерному) списку [TN, FP, FN, TP]."
   ]
  },
  {
   "cell_type": "markdown",
   "id": "f65f037e",
   "metadata": {},
   "source": [
    "- TP — true positive: классификатор верно отнёс объект к рассматриваемому классу.\n",
    "- TN — true negative: классификатор верно утверждает, что объект не принадлежит к рассматриваемому классу.\n",
    "- FP — false positive: классификатор неверно отнёс объект к рассматриваемому классу.\n",
    "- FN — false negative: классификатор неверно утверждает, что объект не принадлежит к рассматриваемому классу.\n",
    "\n",
    "*У качественной модели большая часть прогнозов должна попадать в группы TP и TN.*"
   ]
  },
  {
   "cell_type": "code",
   "execution_count": 23,
   "id": "e030e7bb",
   "metadata": {},
   "outputs": [
    {
     "name": "stdout",
     "output_type": "stream",
     "text": [
      "True positive =  21\n",
      "False positive =  2\n",
      "False negative =  14\n",
      "True negative =  6\n",
      "[21  2 14  6]\n"
     ]
    }
   ],
   "source": [
    "cm = confusion_matrix(y_test, pr) # матрица неточностей\n",
    "print('True positive = ', cm[0][0])\n",
    "print('False positive = ', cm[0][1])\n",
    "print('False negative = ', cm[1][0])\n",
    "print('True negative = ', cm[1][1])\n",
    "print(cm.ravel()) # преобразование матрицы к списку"
   ]
  },
  {
   "cell_type": "markdown",
   "id": "79c6f231",
   "metadata": {},
   "source": [
    "Наилучшие результаты достигаются при числе n_neighbors=7. При количестве соседей равном 2: TP =  22, FP =  1, FN =  19, TN =  1.\n",
    "При количестве соседей равном 4: TP =  21, FP =  2, FN =  18, TN =  2."
   ]
  },
  {
   "cell_type": "markdown",
   "id": "b3067c4a",
   "metadata": {},
   "source": [
    "Эти же результаты подтвержают показатели метрик:\n",
    "- accuracy: доля правильных ответов, находится по формуле (tp + tn)/(tp+tn+fp+fn)\n",
    "- precision: точность, находится по формуле tp / (tp + fp)\n",
    "- recall: полнота, находится по формуле tp / (tp + fn)\n",
    "- f1: cводная метрика, учитывающая баланс между метриками, находится по формуле (2 * precision * recall)/(precision + recall)\n",
    "- balanced_accuracy: определяется как среднее арифметическое значение  чувствительности и специфичности, находится по формуле (TP / (TP + FN) + TN / (TN + FP))/2 или (sensitivity + specifity)/2"
   ]
  },
  {
   "cell_type": "code",
   "execution_count": 24,
   "id": "51a820dd",
   "metadata": {},
   "outputs": [
    {
     "name": "stdout",
     "output_type": "stream",
     "text": [
      "0.627906976744186\n",
      "0.6\n",
      "0.9130434782608695\n",
      "0.7241379310344828\n",
      "0.6065217391304347\n"
     ]
    }
   ],
   "source": [
    "# подсчет метрик\n",
    "print(accuracy_score(y_test, pr))\n",
    "print(precision_score(y_test, pr))\n",
    "print(recall_score(y_test, pr))\n",
    "print(f1_score(y_test, pr))\n",
    "print(balanced_accuracy_score(y_test, pr))"
   ]
  },
  {
   "cell_type": "markdown",
   "id": "63e5a39a",
   "metadata": {},
   "source": [
    "Наилучшие результаты метрик получились при количестве соседей, равном 7. Наилучший показатель recall отражает, что умение классификатора находить все положительные объекты класса абсолютно точно. Несмотря на это, худший показатель precision отражает, что все положительные объекты, которые считались положительными классифицированы с точностью только 60%. Сводная метрика f1 также показывает неплохой результат."
   ]
  },
  {
   "cell_type": "markdown",
   "id": "0243fefd",
   "metadata": {},
   "source": [
    "Для оценки качества классификатора (модели классификации) применяют метрику roc_auc, или площадь под кривой ошибок.\n",
    "\n",
    "ROC-кривая — график, позволяющий оценить качество бинарной классификации, отображает соотношение между долей объектов от общего количества носителей признака, верно классифицированных как несущие признак (true positive rate - чувствительность алгоритма классификации), и долей объектов от общего количества объектов, не несущих признака, ошибочно классифицированных как несущие признак (false positive rate - величина 1-FPR называется специфичностью алгоритма классификации) при варьировании порога решающего правила."
   ]
  },
  {
   "cell_type": "code",
   "execution_count": 25,
   "id": "f0045fa7",
   "metadata": {},
   "outputs": [
    {
     "data": {
      "image/png": "[encoded data removed]",
      "text/plain": [
       "<Figure size 432x288 with 1 Axes>"
      ]
     },
     "metadata": {
      "needs_background": "light"
     },
     "output_type": "display_data"
    }
   ],
   "source": [
    "ax = plt.gca()\n",
    "# Визуализация ROC-кривой \n",
    "Roc = RocCurveDisplay.from_estimator(neighbors, x_test, y_test, ax=ax, alpha=0.8)\n",
    "plt.show()"
   ]
  },
  {
   "cell_type": "markdown",
   "id": "fa763a51",
   "metadata": {},
   "source": [
    "Проверим данную метрику для различного числа n_neighbors, чтобы убедится, что наибольшее значение достигается при установленном количестве соседей."
   ]
  },
  {
   "cell_type": "code",
   "execution_count": 26,
   "id": "2057f4f4",
   "metadata": {},
   "outputs": [
    {
     "name": "stdout",
     "output_type": "stream",
     "text": [
      "Значение f1: 0.7540983606557378 Кол-во соседей: 11 Значение balanced_accuracy: 0.625\n"
     ]
    }
   ],
   "source": [
    "max_count = 0\n",
    "num_nei = 0\n",
    "balanc = 0\n",
    "for i in range(1, 22): # нахождение максимального значения по метрике \n",
    "    neighbors = KNeighborsClassifier(n_neighbors=i)\n",
    "    pr = neighbors.fit(x_train,y_train).predict(x_test)\n",
    "    if f1_score(y_test, pr) > max_count or balanced_accuracy_score(y_test, pr) > balanc:\n",
    "        max_count = f1_score(y_test, pr)\n",
    "        num_nei = i\n",
    "        balanc = balanced_accuracy_score(y_test, pr)\n",
    "print('Значение f1:', max_count,'Кол-во соседей:', num_nei, 'Значение balanced_accuracy:', balanc)"
   ]
  },
  {
   "cell_type": "markdown",
   "id": "77127594",
   "metadata": {},
   "source": [
    "При числе соседей 11, метрика f1 дает результат 0.7540983606557378, а balanced_accuracy дает значение 0.625.\n",
    "При числе соседей 7, метрика f1 дает результат 0.9130434782608695, а balanced_accuracy дает значение 0.6065217391304347. \n",
    "Так как реультаты метрики f1 значительно улучшаются при 7 соседях, а значение balanced_accuracy изменяется всего на 0.02, а AUC в обоих случах 0.64, было принято решение установить n_neighbors=7."
   ]
  },
  {
   "cell_type": "markdown",
   "id": "89079fb1",
   "metadata": {},
   "source": [
    "## Логистическая регрессия"
   ]
  },
  {
   "cell_type": "markdown",
   "id": "9492a86c",
   "metadata": {},
   "source": [
    "Логистическая регрессия — статистическая модель, используемая для прогнозирования вероятности возникновения некоторого события путём его сравнения с логистической кривой. Эта регрессия выдаёт ответ в виде вероятности бинарного события (1 или 0)."
   ]
  },
  {
   "cell_type": "markdown",
   "id": "4de254ec",
   "metadata": {},
   "source": [
    "Ее создание осуществляется с помощью функции LogisticRegression() библиотеки scipy."
   ]
  },
  {
   "cell_type": "code",
   "execution_count": 27,
   "id": "dff358ca",
   "metadata": {},
   "outputs": [],
   "source": [
    "logistic = LogisticRegression() # Классификатор логистической регрессии\n",
    "pr_log = logistic.fit(x_train, y_train).predict(x_test)"
   ]
  },
  {
   "cell_type": "code",
   "execution_count": 28,
   "id": "f29169a0",
   "metadata": {},
   "outputs": [
    {
     "name": "stdout",
     "output_type": "stream",
     "text": [
      "True positive =  20\n",
      "False positive =  3\n",
      "False negative =  15\n",
      "True negative =  5\n",
      "[20  3 15  5]\n"
     ]
    }
   ],
   "source": [
    "cm = confusion_matrix(y_test, pr_log) # матрица неточностей\n",
    "print('True positive = ', cm[0][0])\n",
    "print('False positive = ', cm[0][1])\n",
    "print('False negative = ', cm[1][0])\n",
    "print('True negative = ', cm[1][1])\n",
    "print(cm.ravel()) # преобразование матрицы к списку"
   ]
  },
  {
   "cell_type": "markdown",
   "id": "1718b6f3",
   "metadata": {},
   "source": [
    "Наибольшее число значений попало в True positive и False negative, что является хорошим показателем. Необходимо также проанализировать метрики."
   ]
  },
  {
   "cell_type": "code",
   "execution_count": 29,
   "id": "feebace6",
   "metadata": {},
   "outputs": [
    {
     "name": "stdout",
     "output_type": "stream",
     "text": [
      "0.5813953488372093\n",
      "0.5714285714285714\n",
      "0.8695652173913043\n",
      "0.689655172413793\n",
      "0.5597826086956521\n"
     ]
    }
   ],
   "source": [
    "# подсчет метрик\n",
    "print(accuracy_score(y_test, pr_log))\n",
    "print(precision_score(y_test, pr_log))\n",
    "print(recall_score(y_test, pr_log))\n",
    "print(f1_score(y_test, pr_log))\n",
    "print(balanced_accuracy_score(y_test, pr_log))"
   ]
  },
  {
   "cell_type": "markdown",
   "id": "06635722",
   "metadata": {},
   "source": [
    "Данные метрики оказались довольно высокими, но хуже, чем метрики, полученные методом к-ближайших соседей."
   ]
  },
  {
   "cell_type": "markdown",
   "id": "cbf65c7f",
   "metadata": {},
   "source": [
    "Необходимо визуализировать roc-кривую для логистической регрессии."
   ]
  },
  {
   "cell_type": "code",
   "execution_count": 30,
   "id": "983723d6",
   "metadata": {},
   "outputs": [
    {
     "data": {
      "image/png": "[encoded data removed]",
      "text/plain": [
       "<Figure size 432x288 with 1 Axes>"
      ]
     },
     "metadata": {
      "needs_background": "light"
     },
     "output_type": "display_data"
    }
   ],
   "source": [
    "ax = plt.gca() # Визуализация ROC-кривой \n",
    "Roc = RocCurveDisplay.from_estimator(logistic, x_test, y_test, ax=ax, alpha=0.8)\n",
    "plt.show()"
   ]
  },
  {
   "cell_type": "markdown",
   "id": "8a18faca",
   "metadata": {},
   "source": [
    "Несмотря на это, показатель AUC линейной регресси оказался больше, чем полученный методом к-ближайших соседей, что говорит о более качественной классификации."
   ]
  },
  {
   "cell_type": "markdown",
   "id": "173f64f8",
   "metadata": {},
   "source": [
    "## Cлучайный лес"
   ]
  },
  {
   "cell_type": "markdown",
   "id": "d2121bf2",
   "metadata": {},
   "source": [
    "Метод случайного леса — алгоритм машинного обучения, заключающийся в использовании комитета (ансамбля) решающих деревьев. Алгоритм сочетает в себе две основные идеи: метод бэггинга Бреймана и метод случайных подпространств. Алгоритм применяется для задач классификации, регрессии и кластеризации. Основная идея заключается в использовании большого ансамбля решающих деревьев, каждое из которых само по себе даёт очень невысокое качество классификации, но за счёт их большого количества результат получается хорошим."
   ]
  },
  {
   "cell_type": "markdown",
   "id": "ef0cbb6c",
   "metadata": {},
   "source": [
    "Реализуется данный алгоритм с помощью RandomForestClassifier() библиотеки scipy. "
   ]
  },
  {
   "cell_type": "code",
   "execution_count": 31,
   "id": "bc8d3459",
   "metadata": {},
   "outputs": [],
   "source": [
    "random_forest = RandomForestClassifier() # Классификатор метода random forest\n",
    "pr_random = random_forest.fit(x_train, y_train).predict(x_test)"
   ]
  },
  {
   "cell_type": "markdown",
   "id": "b7e1f2d6",
   "metadata": {},
   "source": [
    "Необходимо также проанализировать матрица неточностей и метрики."
   ]
  },
  {
   "cell_type": "code",
   "execution_count": 32,
   "id": "8a903ff4",
   "metadata": {},
   "outputs": [
    {
     "name": "stdout",
     "output_type": "stream",
     "text": [
      "True positive =  20\n",
      "False positive =  3\n",
      "False negative =  15\n",
      "True negative =  5\n",
      "[20  3 15  5]\n"
     ]
    }
   ],
   "source": [
    "cm = confusion_matrix(y_test, pr_log) # матрица неточностей\n",
    "print('True positive = ', cm[0][0])\n",
    "print('False positive = ', cm[0][1])\n",
    "print('False negative = ', cm[1][0])\n",
    "print('True negative = ', cm[1][1])\n",
    "print(cm.ravel()) # преобразование матрицы к списку"
   ]
  },
  {
   "cell_type": "code",
   "execution_count": 33,
   "id": "132a5522",
   "metadata": {},
   "outputs": [
    {
     "name": "stdout",
     "output_type": "stream",
     "text": [
      "0.5813953488372093\n",
      "0.5714285714285714\n",
      "0.8695652173913043\n",
      "0.689655172413793\n",
      "0.5597826086956521\n"
     ]
    }
   ],
   "source": [
    "print(accuracy_score(y_test, pr_log)) # подсчет метрик\n",
    "print(precision_score(y_test, pr_log))\n",
    "print(recall_score(y_test, pr_log)) \n",
    "print(f1_score(y_test, pr_log))\n",
    "print(balanced_accuracy_score(y_test, pr_log))"
   ]
  },
  {
   "cell_type": "markdown",
   "id": "1022a97e",
   "metadata": {},
   "source": [
    "Показатели метрик также не очень высокие, относительно других методов классификации. Необходимо также визуализировать roc-кривую для метода random forest. "
   ]
  },
  {
   "cell_type": "code",
   "execution_count": 34,
   "id": "2e5fedca",
   "metadata": {},
   "outputs": [
    {
     "data": {
      "image/png": "[encoded data removed]",
      "text/plain": [
       "<Figure size 432x288 with 1 Axes>"
      ]
     },
     "metadata": {
      "needs_background": "light"
     },
     "output_type": "display_data"
    }
   ],
   "source": [
    "ax = plt.gca() # Визуализация ROC-кривой\n",
    "Roc = RocCurveDisplay.from_estimator(random_forest, x_test, y_test, ax=ax, alpha=0.8)\n",
    "plt.show()"
   ]
  },
  {
   "cell_type": "markdown",
   "id": "dde1e24a",
   "metadata": {},
   "source": [
    "Но при этом показатель AUC самый высокий = 0.80, тогда как этот показатель логистической регрессии дает значение только 0.72, а метод к-ближайших соседей только 0.64."
   ]
  },
  {
   "cell_type": "markdown",
   "id": "adbdd561",
   "metadata": {},
   "source": [
    "Необходимо построить roc-кривую для каждого метода классификации на одном графике."
   ]
  },
  {
   "cell_type": "code",
   "execution_count": 35,
   "id": "d9a5129a",
   "metadata": {},
   "outputs": [
    {
     "data": {
      "image/png": "[encoded data removed]",
      "text/plain": [
       "<Figure size 432x288 with 1 Axes>"
      ]
     },
     "metadata": {
      "needs_background": "light"
     },
     "output_type": "display_data"
    }
   ],
   "source": [
    "ax = plt.gca() # Визуализация ROC-кривых\n",
    "Roc = RocCurveDisplay.from_estimator(random_forest, x_test, y_test, ax=ax, alpha=0.8)\n",
    "Roc = RocCurveDisplay.from_estimator(neighbors, x_test, y_test, ax=ax, alpha=0.8)\n",
    "Roc = RocCurveDisplay.from_estimator(logistic, x_test, y_test, ax=ax, alpha=0.8)\n",
    "plt.show()"
   ]
  },
  {
   "cell_type": "markdown",
   "id": "1db2fdd5",
   "metadata": {},
   "source": [
    "Визуализация наглядно демонстрирует разницу между значениями AUC разных классификаций и доказывает, что наиболее качественная классификация достигается при использовании метода Случайного леса (random forest)"
   ]
  },
  {
   "cell_type": "markdown",
   "id": "34b129a7",
   "metadata": {},
   "source": [
    "## Вывод:"
   ]
  },
  {
   "cell_type": "markdown",
   "id": "3e27d69f",
   "metadata": {},
   "source": [
    "Подводя итоги, можно сделать вывод, что метод случайного леса (random forest) классифицирует данные наиболее точно. При этом самые высокие показатели матрицы неточностей (наибольшее распределение в True positive и False negative), а также различные метрики, такие как Accuracy, Precision, Recall,F1, Balanced accuracy - были у логистической регрессии и метода к-ближайших соседей."
   ]
  },
  {
   "cell_type": "markdown",
   "id": "d16b53ae",
   "metadata": {},
   "source": [
    "## Доп. задание:"
   ]
  },
  {
   "cell_type": "code",
   "execution_count": 36,
   "id": "ef9535b2",
   "metadata": {},
   "outputs": [
    {
     "name": "stdout",
     "output_type": "stream",
     "text": [
      "Значение f1: 0.7540983606557378 Кол-во соседей: 11 Значение balanced_accuracy: 0.625\n"
     ]
    }
   ],
   "source": [
    "max_count = 0\n",
    "num_nei = 0\n",
    "balanc = 0\n",
    "for i in range(1, 22): # нахождение максимального значения по метрике \n",
    "    neighbors = KNeighborsClassifier(n_neighbors=i)\n",
    "    pr = neighbors.fit(x_train,y_train).predict(x_test)\n",
    "    if f1_score(y_test, pr) > max_count or balanced_accuracy_score(y_test, pr) > balanc:\n",
    "        max_count = f1_score(y_test, pr)\n",
    "        num_nei = i\n",
    "        balanc = balanced_accuracy_score(y_test, pr)\n",
    "print('Значение f1:', max_count,'Кол-во соседей:', num_nei, 'Значение balanced_accuracy:', balanc)"
   ]
  },
  {
   "cell_type": "markdown",
   "id": "db6715bd",
   "metadata": {},
   "source": [
    "При числе соседей 11, метрика f1 дает результат 0.7540983606557378, а balanced_accuracy дает значение 0.625.\n",
    "При числе соседей 7, метрика f1 дает результат 0.9130434782608695, а balanced_accuracy дает значение 0.6065217391304347. \n",
    "Так как реультаты метрики f1 значительно улучшаются при 7 соседях, а значение balanced_accuracy изменяется всего на 0.02, а AUC в обоих случах 0.64, было принято решение установить n_neighbors=7."
   ]
  }
 ],
 "metadata": {
  "kernelspec": {
   "display_name": "Python 3 (ipykernel)",
   "language": "python",
   "name": "python3"
  },
  "language_info": {
   "codemirror_mode": {
    "name": "ipython",
    "version": 3
   },
   "file_extension": ".py",
   "mimetype": "text/x-python",
   "name": "python",
   "nbconvert_exporter": "python",
   "pygments_lexer": "ipython3",
   "version": "3.9.12"
  }
 },
 "nbformat": 4,
 "nbformat_minor": 5
}
