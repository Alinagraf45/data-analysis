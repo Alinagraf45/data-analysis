{
 "cells": [
  {
   "cell_type": "markdown",
   "id": "2db2f53d",
   "metadata": {},
   "source": [
    "# Лабораторная работа № 5"
   ]
  },
  {
   "cell_type": "code",
   "execution_count": 1,
   "id": "32cf8078",
   "metadata": {},
   "outputs": [],
   "source": [
    "import math\n",
    "import numpy as np\n",
    "import pandas\n",
    "from scipy import stats\n",
    "import matplotlib.pyplot as plt\n",
    "#подключение библиотек"
   ]
  },
  {
   "cell_type": "markdown",
   "id": "1b0b2612",
   "metadata": {},
   "source": [
    "## Анализ предметной области:"
   ]
  },
  {
   "cell_type": "markdown",
   "id": "32a563a6",
   "metadata": {},
   "source": [
    "Датасет orders.csv содержит информацию о заказах пользователей.\n",
    "Столбцы хранят такую информацию, как:\n",
    "\n",
    "1. transactionId — идентификатор заказа;\n",
    "2. visitorId — идентификатор пользователя, совершившего заказ;\n",
    "3. date — дата, когда был совершён заказ;\n",
    "4. revenue — выручка заказа;\n",
    "5. group — группа A/B-теста, в которую попал заказ.\n",
    "\n",
    "Вывод первых 20 строк набора данных осуществляется с помощью функции head() библиотеки pandas."
   ]
  },
  {
   "cell_type": "code",
   "execution_count": 2,
   "id": "bd893625",
   "metadata": {
    "scrolled": true
   },
   "outputs": [
    {
     "data": {
      "text/html": [
       "<div>\n",
       "<style scoped>\n",
       "    .dataframe tbody tr th:only-of-type {\n",
       "        vertical-align: middle;\n",
       "    }\n",
       "\n",
       "    .dataframe tbody tr th {\n",
       "        vertical-align: top;\n",
       "    }\n",
       "\n",
       "    .dataframe thead th {\n",
       "        text-align: right;\n",
       "    }\n",
       "</style>\n",
       "<table border=\"1\" class=\"dataframe\">\n",
       "  <thead>\n",
       "    <tr style=\"text-align: right;\">\n",
       "      <th></th>\n",
       "      <th>transactionId</th>\n",
       "      <th>visitorId</th>\n",
       "      <th>date</th>\n",
       "      <th>revenue</th>\n",
       "      <th>group</th>\n",
       "    </tr>\n",
       "  </thead>\n",
       "  <tbody>\n",
       "    <tr>\n",
       "      <th>0</th>\n",
       "      <td>3667963787</td>\n",
       "      <td>3312258926</td>\n",
       "      <td>2019-08-15</td>\n",
       "      <td>1650</td>\n",
       "      <td>B</td>\n",
       "    </tr>\n",
       "    <tr>\n",
       "      <th>1</th>\n",
       "      <td>2804400009</td>\n",
       "      <td>3642806036</td>\n",
       "      <td>2019-08-15</td>\n",
       "      <td>730</td>\n",
       "      <td>B</td>\n",
       "    </tr>\n",
       "    <tr>\n",
       "      <th>2</th>\n",
       "      <td>2961555356</td>\n",
       "      <td>4069496402</td>\n",
       "      <td>2019-08-15</td>\n",
       "      <td>400</td>\n",
       "      <td>A</td>\n",
       "    </tr>\n",
       "    <tr>\n",
       "      <th>3</th>\n",
       "      <td>3797467345</td>\n",
       "      <td>1196621759</td>\n",
       "      <td>2019-08-15</td>\n",
       "      <td>9759</td>\n",
       "      <td>B</td>\n",
       "    </tr>\n",
       "    <tr>\n",
       "      <th>4</th>\n",
       "      <td>2282983706</td>\n",
       "      <td>2322279887</td>\n",
       "      <td>2019-08-15</td>\n",
       "      <td>2308</td>\n",
       "      <td>B</td>\n",
       "    </tr>\n",
       "    <tr>\n",
       "      <th>5</th>\n",
       "      <td>182168103</td>\n",
       "      <td>935554773</td>\n",
       "      <td>2019-08-15</td>\n",
       "      <td>2210</td>\n",
       "      <td>B</td>\n",
       "    </tr>\n",
       "    <tr>\n",
       "      <th>6</th>\n",
       "      <td>398296753</td>\n",
       "      <td>2900797465</td>\n",
       "      <td>2019-08-15</td>\n",
       "      <td>1860</td>\n",
       "      <td>B</td>\n",
       "    </tr>\n",
       "    <tr>\n",
       "      <th>7</th>\n",
       "      <td>2626614568</td>\n",
       "      <td>78758296</td>\n",
       "      <td>2019-08-15</td>\n",
       "      <td>1044</td>\n",
       "      <td>A</td>\n",
       "    </tr>\n",
       "    <tr>\n",
       "      <th>8</th>\n",
       "      <td>1576988021</td>\n",
       "      <td>295230930</td>\n",
       "      <td>2019-08-15</td>\n",
       "      <td>13710</td>\n",
       "      <td>A</td>\n",
       "    </tr>\n",
       "    <tr>\n",
       "      <th>9</th>\n",
       "      <td>1506739906</td>\n",
       "      <td>1882260405</td>\n",
       "      <td>2019-08-15</td>\n",
       "      <td>1855</td>\n",
       "      <td>B</td>\n",
       "    </tr>\n",
       "    <tr>\n",
       "      <th>10</th>\n",
       "      <td>3649131742</td>\n",
       "      <td>879864040</td>\n",
       "      <td>2019-08-15</td>\n",
       "      <td>4008</td>\n",
       "      <td>A</td>\n",
       "    </tr>\n",
       "    <tr>\n",
       "      <th>11</th>\n",
       "      <td>1919444843</td>\n",
       "      <td>927791387</td>\n",
       "      <td>2019-08-15</td>\n",
       "      <td>4499</td>\n",
       "      <td>B</td>\n",
       "    </tr>\n",
       "    <tr>\n",
       "      <th>12</th>\n",
       "      <td>2809384911</td>\n",
       "      <td>3213223594</td>\n",
       "      <td>2019-08-15</td>\n",
       "      <td>7370</td>\n",
       "      <td>A</td>\n",
       "    </tr>\n",
       "    <tr>\n",
       "      <th>13</th>\n",
       "      <td>3044797713</td>\n",
       "      <td>728063420</td>\n",
       "      <td>2019-08-15</td>\n",
       "      <td>11985</td>\n",
       "      <td>B</td>\n",
       "    </tr>\n",
       "    <tr>\n",
       "      <th>14</th>\n",
       "      <td>3859315276</td>\n",
       "      <td>1565034404</td>\n",
       "      <td>2019-08-15</td>\n",
       "      <td>10980</td>\n",
       "      <td>A</td>\n",
       "    </tr>\n",
       "    <tr>\n",
       "      <th>15</th>\n",
       "      <td>2550768810</td>\n",
       "      <td>2742574263</td>\n",
       "      <td>2019-08-15</td>\n",
       "      <td>15277</td>\n",
       "      <td>B</td>\n",
       "    </tr>\n",
       "    <tr>\n",
       "      <th>16</th>\n",
       "      <td>1820531107</td>\n",
       "      <td>2973109265</td>\n",
       "      <td>2019-08-15</td>\n",
       "      <td>1060</td>\n",
       "      <td>B</td>\n",
       "    </tr>\n",
       "    <tr>\n",
       "      <th>17</th>\n",
       "      <td>1108180333</td>\n",
       "      <td>222718357</td>\n",
       "      <td>2019-08-15</td>\n",
       "      <td>990</td>\n",
       "      <td>B</td>\n",
       "    </tr>\n",
       "    <tr>\n",
       "      <th>18</th>\n",
       "      <td>1822256754</td>\n",
       "      <td>4227830084</td>\n",
       "      <td>2019-08-15</td>\n",
       "      <td>16490</td>\n",
       "      <td>A</td>\n",
       "    </tr>\n",
       "    <tr>\n",
       "      <th>19</th>\n",
       "      <td>674584210</td>\n",
       "      <td>3207734412</td>\n",
       "      <td>2019-08-15</td>\n",
       "      <td>1190</td>\n",
       "      <td>A</td>\n",
       "    </tr>\n",
       "  </tbody>\n",
       "</table>\n",
       "</div>"
      ],
      "text/plain": [
       "    transactionId   visitorId        date  revenue group\n",
       "0      3667963787  3312258926  2019-08-15     1650     B\n",
       "1      2804400009  3642806036  2019-08-15      730     B\n",
       "2      2961555356  4069496402  2019-08-15      400     A\n",
       "3      3797467345  1196621759  2019-08-15     9759     B\n",
       "4      2282983706  2322279887  2019-08-15     2308     B\n",
       "5       182168103   935554773  2019-08-15     2210     B\n",
       "6       398296753  2900797465  2019-08-15     1860     B\n",
       "7      2626614568    78758296  2019-08-15     1044     A\n",
       "8      1576988021   295230930  2019-08-15    13710     A\n",
       "9      1506739906  1882260405  2019-08-15     1855     B\n",
       "10     3649131742   879864040  2019-08-15     4008     A\n",
       "11     1919444843   927791387  2019-08-15     4499     B\n",
       "12     2809384911  3213223594  2019-08-15     7370     A\n",
       "13     3044797713   728063420  2019-08-15    11985     B\n",
       "14     3859315276  1565034404  2019-08-15    10980     A\n",
       "15     2550768810  2742574263  2019-08-15    15277     B\n",
       "16     1820531107  2973109265  2019-08-15     1060     B\n",
       "17     1108180333   222718357  2019-08-15      990     B\n",
       "18     1822256754  4227830084  2019-08-15    16490     A\n",
       "19      674584210  3207734412  2019-08-15     1190     A"
      ]
     },
     "metadata": {},
     "output_type": "display_data"
    }
   ],
   "source": [
    "df1 = pandas.read_csv('C:\\\\Users\\\\Alina\\\\OneDrive\\\\Рабочий стол\\\\андан\\\\orders.csv')\n",
    "#полученые данных из файла с датасетом в переменнную df\n",
    "display(df1.head(20))\n",
    "#вывод первых 20 значений датасета"
   ]
  },
  {
   "cell_type": "markdown",
   "id": "cf6371f4",
   "metadata": {},
   "source": [
    "Датасет visitors.csv содержит информацию для A/B-теста.\n",
    "Столбцы хранят такую информацию, как:\n",
    "\n",
    "1. date — дата;\n",
    "2. group — группа A/B-теста;\n",
    "3. visitors — количество пользователей в указанную дату в указанной группе A/B-теста\n",
    "\n",
    "Вывод первых 20 строк набора данных осуществляется с помощью функции head() библиотеки pandas."
   ]
  },
  {
   "cell_type": "code",
   "execution_count": 3,
   "id": "cc2426bc",
   "metadata": {},
   "outputs": [
    {
     "data": {
      "text/html": [
       "<div>\n",
       "<style scoped>\n",
       "    .dataframe tbody tr th:only-of-type {\n",
       "        vertical-align: middle;\n",
       "    }\n",
       "\n",
       "    .dataframe tbody tr th {\n",
       "        vertical-align: top;\n",
       "    }\n",
       "\n",
       "    .dataframe thead th {\n",
       "        text-align: right;\n",
       "    }\n",
       "</style>\n",
       "<table border=\"1\" class=\"dataframe\">\n",
       "  <thead>\n",
       "    <tr style=\"text-align: right;\">\n",
       "      <th></th>\n",
       "      <th>date</th>\n",
       "      <th>group</th>\n",
       "      <th>visitors</th>\n",
       "    </tr>\n",
       "  </thead>\n",
       "  <tbody>\n",
       "    <tr>\n",
       "      <th>0</th>\n",
       "      <td>2019-08-01</td>\n",
       "      <td>A</td>\n",
       "      <td>719</td>\n",
       "    </tr>\n",
       "    <tr>\n",
       "      <th>1</th>\n",
       "      <td>2019-08-02</td>\n",
       "      <td>A</td>\n",
       "      <td>619</td>\n",
       "    </tr>\n",
       "    <tr>\n",
       "      <th>2</th>\n",
       "      <td>2019-08-03</td>\n",
       "      <td>A</td>\n",
       "      <td>507</td>\n",
       "    </tr>\n",
       "    <tr>\n",
       "      <th>3</th>\n",
       "      <td>2019-08-04</td>\n",
       "      <td>A</td>\n",
       "      <td>717</td>\n",
       "    </tr>\n",
       "    <tr>\n",
       "      <th>4</th>\n",
       "      <td>2019-08-05</td>\n",
       "      <td>A</td>\n",
       "      <td>756</td>\n",
       "    </tr>\n",
       "    <tr>\n",
       "      <th>5</th>\n",
       "      <td>2019-08-06</td>\n",
       "      <td>A</td>\n",
       "      <td>667</td>\n",
       "    </tr>\n",
       "    <tr>\n",
       "      <th>6</th>\n",
       "      <td>2019-08-07</td>\n",
       "      <td>A</td>\n",
       "      <td>644</td>\n",
       "    </tr>\n",
       "    <tr>\n",
       "      <th>7</th>\n",
       "      <td>2019-08-08</td>\n",
       "      <td>A</td>\n",
       "      <td>610</td>\n",
       "    </tr>\n",
       "    <tr>\n",
       "      <th>8</th>\n",
       "      <td>2019-08-09</td>\n",
       "      <td>A</td>\n",
       "      <td>617</td>\n",
       "    </tr>\n",
       "    <tr>\n",
       "      <th>9</th>\n",
       "      <td>2019-08-10</td>\n",
       "      <td>A</td>\n",
       "      <td>406</td>\n",
       "    </tr>\n",
       "    <tr>\n",
       "      <th>10</th>\n",
       "      <td>2019-08-11</td>\n",
       "      <td>A</td>\n",
       "      <td>718</td>\n",
       "    </tr>\n",
       "    <tr>\n",
       "      <th>11</th>\n",
       "      <td>2019-08-12</td>\n",
       "      <td>A</td>\n",
       "      <td>595</td>\n",
       "    </tr>\n",
       "    <tr>\n",
       "      <th>12</th>\n",
       "      <td>2019-08-13</td>\n",
       "      <td>A</td>\n",
       "      <td>748</td>\n",
       "    </tr>\n",
       "    <tr>\n",
       "      <th>13</th>\n",
       "      <td>2019-08-14</td>\n",
       "      <td>A</td>\n",
       "      <td>735</td>\n",
       "    </tr>\n",
       "    <tr>\n",
       "      <th>14</th>\n",
       "      <td>2019-08-15</td>\n",
       "      <td>A</td>\n",
       "      <td>628</td>\n",
       "    </tr>\n",
       "    <tr>\n",
       "      <th>15</th>\n",
       "      <td>2019-08-16</td>\n",
       "      <td>A</td>\n",
       "      <td>361</td>\n",
       "    </tr>\n",
       "    <tr>\n",
       "      <th>16</th>\n",
       "      <td>2019-08-17</td>\n",
       "      <td>A</td>\n",
       "      <td>412</td>\n",
       "    </tr>\n",
       "    <tr>\n",
       "      <th>17</th>\n",
       "      <td>2019-08-18</td>\n",
       "      <td>A</td>\n",
       "      <td>668</td>\n",
       "    </tr>\n",
       "    <tr>\n",
       "      <th>18</th>\n",
       "      <td>2019-08-19</td>\n",
       "      <td>A</td>\n",
       "      <td>502</td>\n",
       "    </tr>\n",
       "    <tr>\n",
       "      <th>19</th>\n",
       "      <td>2019-08-20</td>\n",
       "      <td>A</td>\n",
       "      <td>575</td>\n",
       "    </tr>\n",
       "  </tbody>\n",
       "</table>\n",
       "</div>"
      ],
      "text/plain": [
       "          date group  visitors\n",
       "0   2019-08-01     A       719\n",
       "1   2019-08-02     A       619\n",
       "2   2019-08-03     A       507\n",
       "3   2019-08-04     A       717\n",
       "4   2019-08-05     A       756\n",
       "5   2019-08-06     A       667\n",
       "6   2019-08-07     A       644\n",
       "7   2019-08-08     A       610\n",
       "8   2019-08-09     A       617\n",
       "9   2019-08-10     A       406\n",
       "10  2019-08-11     A       718\n",
       "11  2019-08-12     A       595\n",
       "12  2019-08-13     A       748\n",
       "13  2019-08-14     A       735\n",
       "14  2019-08-15     A       628\n",
       "15  2019-08-16     A       361\n",
       "16  2019-08-17     A       412\n",
       "17  2019-08-18     A       668\n",
       "18  2019-08-19     A       502\n",
       "19  2019-08-20     A       575"
      ]
     },
     "metadata": {},
     "output_type": "display_data"
    }
   ],
   "source": [
    "df2 = pandas.read_csv('C:\\\\Users\\\\Alina\\\\OneDrive\\\\Рабочий стол\\\\андан\\\\visitors.csv')\n",
    "#полученые данных из файла с датасетом в переменнную df\n",
    "display(df2.head(20))\n",
    "#вывод первых 20 значений датасета"
   ]
  },
  {
   "cell_type": "markdown",
   "id": "c45854d1",
   "metadata": {},
   "source": [
    "## Предобработка данных:"
   ]
  },
  {
   "cell_type": "markdown",
   "id": "649e0180",
   "metadata": {},
   "source": [
    "Предобработка данных датасета orders.csv:"
   ]
  },
  {
   "cell_type": "code",
   "execution_count": 4,
   "id": "b66d9005",
   "metadata": {},
   "outputs": [
    {
     "name": "stdout",
     "output_type": "stream",
     "text": [
      "<class 'pandas.core.frame.DataFrame'>\n",
      "RangeIndex: 1197 entries, 0 to 1196\n",
      "Data columns (total 5 columns):\n",
      " #   Column         Non-Null Count  Dtype \n",
      "---  ------         --------------  ----- \n",
      " 0   transactionId  1197 non-null   int64 \n",
      " 1   visitorId      1197 non-null   int64 \n",
      " 2   date           1197 non-null   object\n",
      " 3   revenue        1197 non-null   int64 \n",
      " 4   group          1197 non-null   object\n",
      "dtypes: int64(3), object(2)\n",
      "memory usage: 46.9+ KB\n"
     ]
    }
   ],
   "source": [
    "df1.info()\n",
    "#оценка данных и пропущенных значений"
   ]
  },
  {
   "cell_type": "markdown",
   "id": "d77103c9",
   "metadata": {},
   "source": [
    "По результатам использования метода info() для оценки данных можно сделать вывод, что столбец date имеет неправильный тип данных, который необходимо изменить для упрощения дальнейшей работы с данными. Для замены типа данных нужно воспользоваться методом astype()."
   ]
  },
  {
   "cell_type": "code",
   "execution_count": 5,
   "id": "4ffa62cc",
   "metadata": {},
   "outputs": [],
   "source": [
    "df1['date'] = df1['date'].astype(np.datetime64)\n",
    "#изменение типов данных"
   ]
  },
  {
   "cell_type": "code",
   "execution_count": 6,
   "id": "5372bd6d",
   "metadata": {},
   "outputs": [
    {
     "data": {
      "text/plain": [
       "Index(['transactionId', 'visitorId', 'date', 'revenue', 'group'], dtype='object')"
      ]
     },
     "execution_count": 6,
     "metadata": {},
     "output_type": "execute_result"
    }
   ],
   "source": [
    "df1.columns\n",
    "#названия столбцов для проверки на корректность"
   ]
  },
  {
   "cell_type": "markdown",
   "id": "f5912754",
   "metadata": {},
   "source": [
    "Необходимо, чтобы названия были указаны в змеином регистре, поэтому для изменений названий нужно воспользоваться методом rename()."
   ]
  },
  {
   "cell_type": "code",
   "execution_count": 7,
   "id": "7ded4b9a",
   "metadata": {},
   "outputs": [],
   "source": [
    "df1 = df1.rename(columns={'transactionId':'transaction_id', 'visitorId': 'visitor_id'})\n",
    "#изменение названия столбцов"
   ]
  },
  {
   "cell_type": "markdown",
   "id": "e0d67a48",
   "metadata": {},
   "source": [
    "Далее требуется проверить изменения в названии столбцов методом columns."
   ]
  },
  {
   "cell_type": "code",
   "execution_count": 8,
   "id": "f2fe615f",
   "metadata": {},
   "outputs": [
    {
     "data": {
      "text/plain": [
       "Index(['transaction_id', 'visitor_id', 'date', 'revenue', 'group'], dtype='object')"
      ]
     },
     "execution_count": 8,
     "metadata": {},
     "output_type": "execute_result"
    }
   ],
   "source": [
    "df1.columns\n",
    "#названия столбцов для проверки на корректность"
   ]
  },
  {
   "cell_type": "markdown",
   "id": "6fd68006",
   "metadata": {},
   "source": [
    "Проверка пропущенных значений осуществляется с помощью метода isna(), а isna().sum() находит сумму пропущенных значений по столбцам."
   ]
  },
  {
   "cell_type": "code",
   "execution_count": 9,
   "id": "04e02d45",
   "metadata": {},
   "outputs": [
    {
     "name": "stdout",
     "output_type": "stream",
     "text": [
      "transaction_id    0\n",
      "visitor_id        0\n",
      "date              0\n",
      "revenue           0\n",
      "group             0\n",
      "dtype: int64\n"
     ]
    }
   ],
   "source": [
    "print(df1.isna().sum())\n",
    "#сумма пропущенных значений по столбцам"
   ]
  },
  {
   "cell_type": "markdown",
   "id": "b3b454bf",
   "metadata": {},
   "source": [
    "Пропущенных значений в датасете найдено не было.Также необходимо проверить данные на наличие дубликатов, используя метод duplicated().sum() "
   ]
  },
  {
   "cell_type": "code",
   "execution_count": 10,
   "id": "92572e3c",
   "metadata": {},
   "outputs": [
    {
     "name": "stdout",
     "output_type": "stream",
     "text": [
      "0\n"
     ]
    }
   ],
   "source": [
    "print(df1.duplicated().sum())\n",
    "#проверка наличия дубликатов"
   ]
  },
  {
   "cell_type": "markdown",
   "id": "cad12b34",
   "metadata": {},
   "source": [
    "Дубликаты отсутствуют. Осуществить поиск неявных дубликатов можно с помощью метода unique()."
   ]
  },
  {
   "cell_type": "code",
   "execution_count": 11,
   "id": "3feb17d6",
   "metadata": {},
   "outputs": [
    {
     "name": "stdout",
     "output_type": "stream",
     "text": [
      "['B' 'A']\n"
     ]
    }
   ],
   "source": [
    "for i in range(1, 5):\n",
    "    a = df1.columns[i]\n",
    "    if df1.dtypes[i] == 'object':\n",
    "        print(df1[a].unique())\n",
    "#поиск неявных дубликатов по строковым значениям"
   ]
  },
  {
   "cell_type": "markdown",
   "id": "0036d7e7",
   "metadata": {},
   "source": [
    "Неявные дубликаты не найдены. Предобработка данных датасета visitors.csv происходит аналогичным образом."
   ]
  },
  {
   "cell_type": "code",
   "execution_count": 12,
   "id": "37b24a2f",
   "metadata": {},
   "outputs": [
    {
     "name": "stdout",
     "output_type": "stream",
     "text": [
      "<class 'pandas.core.frame.DataFrame'>\n",
      "RangeIndex: 62 entries, 0 to 61\n",
      "Data columns (total 3 columns):\n",
      " #   Column    Non-Null Count  Dtype \n",
      "---  ------    --------------  ----- \n",
      " 0   date      62 non-null     object\n",
      " 1   group     62 non-null     object\n",
      " 2   visitors  62 non-null     int64 \n",
      "dtypes: int64(1), object(2)\n",
      "memory usage: 1.6+ KB\n"
     ]
    }
   ],
   "source": [
    "df2.info()\n",
    "#оценка данных и пропущенных значений"
   ]
  },
  {
   "cell_type": "markdown",
   "id": "f8ebbb41",
   "metadata": {},
   "source": [
    "По результатам использования метода info() для оценки данных можно сделать вывод, что столбец date имеет неправильный тип данных, который необходимо изменить для упрощения дальнейшей работы с данными. Для замены типа данных нужно воспользоваться методом astype()."
   ]
  },
  {
   "cell_type": "code",
   "execution_count": 13,
   "id": "1561b1fe",
   "metadata": {},
   "outputs": [
    {
     "name": "stdout",
     "output_type": "stream",
     "text": [
      "date        0\n",
      "group       0\n",
      "visitors    0\n",
      "dtype: int64\n",
      "Дубикаты: 0\n",
      "['A' 'B']\n"
     ]
    }
   ],
   "source": [
    "df2['date'] = df2['date'].astype(np.datetime64)\n",
    "#изменеие типов данных\n",
    "df2.columns\n",
    "#названия столбцов для проверки на корректность\n",
    "print(df2.isna().sum())\n",
    "#сумма пропущенных значений по столбцам\n",
    "print(\"Дубикаты:\", df2.duplicated().sum())\n",
    "#проверка наличия дубликатов\n",
    "for i in range(1, 3):\n",
    "    a = df2.columns[i]\n",
    "    if df2.dtypes[i] == 'object':\n",
    "        print(df2[a].unique())\n",
    "#поиск неявных дубликатов по строковым значениям"
   ]
  },
  {
   "cell_type": "markdown",
   "id": "ffedbe37",
   "metadata": {},
   "source": [
    "Названия данных столбцов точно отображают содержимое данных столбцов. Пропущенных значений в датасете найдено не было. Дубликаты не найдены."
   ]
  },
  {
   "cell_type": "markdown",
   "id": "4348735b",
   "metadata": {},
   "source": [
    "## Выполнение работы"
   ]
  },
  {
   "cell_type": "markdown",
   "id": "0ba4ebe1",
   "metadata": {},
   "source": [
    "Необходимо проверить наличие пересекающихся пользователей и удалить их."
   ]
  },
  {
   "cell_type": "code",
   "execution_count": 14,
   "id": "04faf5a4",
   "metadata": {},
   "outputs": [
    {
     "name": "stdout",
     "output_type": "stream",
     "text": [
      "Кол-о удаленных значений 183\n"
     ]
    }
   ],
   "source": [
    "A1 = df1[df1['group'] == 'A'] # разделение датасета на orders 2 группы\n",
    "B1 = df1[df1['group'] == 'B']\n",
    "\n",
    "count = 0\n",
    "for K, i in A1.iterrows(): # Итерация строк DataFrame в виде пар (индекс, ряд).\n",
    "    for q, j in B1.iterrows():\n",
    "        if i[\"visitor_id\"] == j[\"visitor_id\"]:\n",
    "            df1 = df1.drop(df1[df1.visitor_id == i['visitor_id']].index)\n",
    "            count += 1\n",
    "print(\"Кол-во удаленных значений:\", count)"
   ]
  },
  {
   "cell_type": "markdown",
   "id": "2a03e257",
   "metadata": {},
   "source": [
    "Необходимо создать массив уникальных пар значений дат и групп теста."
   ]
  },
  {
   "cell_type": "code",
   "execution_count": 17,
   "id": "377c8130",
   "metadata": {},
   "outputs": [],
   "source": [
    "datesGroups = df1[['date','group']].drop_duplicates() # удаление повторов"
   ]
  },
  {
   "cell_type": "markdown",
   "id": "9813ae48",
   "metadata": {},
   "source": [
    "Необходимо получить агрегированные кумулятивные данные по дням о заказах."
   ]
  },
  {
   "cell_type": "code",
   "execution_count": 31,
   "id": "89a284e2",
   "metadata": {},
   "outputs": [
    {
     "data": {
      "text/html": [
       "<div>\n",
       "<style scoped>\n",
       "    .dataframe tbody tr th:only-of-type {\n",
       "        vertical-align: middle;\n",
       "    }\n",
       "\n",
       "    .dataframe tbody tr th {\n",
       "        vertical-align: top;\n",
       "    }\n",
       "\n",
       "    .dataframe thead th {\n",
       "        text-align: right;\n",
       "    }\n",
       "</style>\n",
       "<table border=\"1\" class=\"dataframe\">\n",
       "  <thead>\n",
       "    <tr style=\"text-align: right;\">\n",
       "      <th></th>\n",
       "      <th>date</th>\n",
       "      <th>group</th>\n",
       "      <th>transaction_id</th>\n",
       "      <th>visitor_id</th>\n",
       "      <th>revenue</th>\n",
       "    </tr>\n",
       "  </thead>\n",
       "  <tbody>\n",
       "    <tr>\n",
       "      <th>55</th>\n",
       "      <td>2019-08-01</td>\n",
       "      <td>A</td>\n",
       "      <td>23</td>\n",
       "      <td>19</td>\n",
       "      <td>142779</td>\n",
       "    </tr>\n",
       "    <tr>\n",
       "      <th>66</th>\n",
       "      <td>2019-08-01</td>\n",
       "      <td>B</td>\n",
       "      <td>17</td>\n",
       "      <td>17</td>\n",
       "      <td>59758</td>\n",
       "    </tr>\n",
       "    <tr>\n",
       "      <th>175</th>\n",
       "      <td>2019-08-02</td>\n",
       "      <td>A</td>\n",
       "      <td>42</td>\n",
       "      <td>36</td>\n",
       "      <td>234381</td>\n",
       "    </tr>\n",
       "    <tr>\n",
       "      <th>173</th>\n",
       "      <td>2019-08-02</td>\n",
       "      <td>B</td>\n",
       "      <td>40</td>\n",
       "      <td>39</td>\n",
       "      <td>221801</td>\n",
       "    </tr>\n",
       "    <tr>\n",
       "      <th>291</th>\n",
       "      <td>2019-08-03</td>\n",
       "      <td>A</td>\n",
       "      <td>66</td>\n",
       "      <td>60</td>\n",
       "      <td>346854</td>\n",
       "    </tr>\n",
       "  </tbody>\n",
       "</table>\n",
       "</div>"
      ],
      "text/plain": [
       "          date group  transaction_id  visitor_id  revenue\n",
       "55  2019-08-01     A              23          19   142779\n",
       "66  2019-08-01     B              17          17    59758\n",
       "175 2019-08-02     A              42          36   234381\n",
       "173 2019-08-02     B              40          39   221801\n",
       "291 2019-08-03     A              66          60   346854"
      ]
     },
     "execution_count": 31,
     "metadata": {},
     "output_type": "execute_result"
    }
   ],
   "source": [
    "DATA_ord = datesGroups.apply(lambda x: df1[np.logical_and(df1['date'] <= x['date'],\n",
    "df1['group'] == x['group'])].agg({'date' : 'max', 'group' : 'max', 'transaction_id' : 'nunique',\n",
    "'visitor_id' : 'nunique', 'revenue' : 'sum'}), axis=1).sort_values(by=['date','group'])\n",
    "DATA_ord.head()"
   ]
  },
  {
   "cell_type": "markdown",
   "id": "0bec50ff",
   "metadata": {},
   "source": [
    "Необходимо получить агрегированные кумулятивные данные по дням о посетителях."
   ]
  },
  {
   "cell_type": "code",
   "execution_count": 39,
   "id": "fbfa677b",
   "metadata": {},
   "outputs": [
    {
     "data": {
      "text/html": [
       "<div>\n",
       "<style scoped>\n",
       "    .dataframe tbody tr th:only-of-type {\n",
       "        vertical-align: middle;\n",
       "    }\n",
       "\n",
       "    .dataframe tbody tr th {\n",
       "        vertical-align: top;\n",
       "    }\n",
       "\n",
       "    .dataframe thead th {\n",
       "        text-align: right;\n",
       "    }\n",
       "</style>\n",
       "<table border=\"1\" class=\"dataframe\">\n",
       "  <thead>\n",
       "    <tr style=\"text-align: right;\">\n",
       "      <th></th>\n",
       "      <th>date</th>\n",
       "      <th>group</th>\n",
       "      <th>visitors</th>\n",
       "    </tr>\n",
       "  </thead>\n",
       "  <tbody>\n",
       "    <tr>\n",
       "      <th>55</th>\n",
       "      <td>2019-08-01</td>\n",
       "      <td>A</td>\n",
       "      <td>719</td>\n",
       "    </tr>\n",
       "    <tr>\n",
       "      <th>66</th>\n",
       "      <td>2019-08-01</td>\n",
       "      <td>B</td>\n",
       "      <td>713</td>\n",
       "    </tr>\n",
       "    <tr>\n",
       "      <th>175</th>\n",
       "      <td>2019-08-02</td>\n",
       "      <td>A</td>\n",
       "      <td>1338</td>\n",
       "    </tr>\n",
       "    <tr>\n",
       "      <th>173</th>\n",
       "      <td>2019-08-02</td>\n",
       "      <td>B</td>\n",
       "      <td>1294</td>\n",
       "    </tr>\n",
       "    <tr>\n",
       "      <th>291</th>\n",
       "      <td>2019-08-03</td>\n",
       "      <td>A</td>\n",
       "      <td>1845</td>\n",
       "    </tr>\n",
       "  </tbody>\n",
       "</table>\n",
       "</div>"
      ],
      "text/plain": [
       "          date group  visitors\n",
       "55  2019-08-01     A       719\n",
       "66  2019-08-01     B       713\n",
       "175 2019-08-02     A      1338\n",
       "173 2019-08-02     B      1294\n",
       "291 2019-08-03     A      1845"
      ]
     },
     "execution_count": 39,
     "metadata": {},
     "output_type": "execute_result"
    }
   ],
   "source": [
    "DATA_visitors = datesGroups.apply(lambda x: df2[np.logical_and(df2['date'] <= x['date'], \n",
    "df2['group'] == x['group'])].agg({'date' : 'max', \n",
    "'group' : 'max', 'visitors' : 'sum'}), \n",
    "axis=1).sort_values(by=['date','group'])\n",
    "DATA_visitors.head()"
   ]
  },
  {
   "cell_type": "markdown",
   "id": "703a49a4",
   "metadata": {},
   "source": [
    "Необходимо объединить полученные данные в одной таблице."
   ]
  },
  {
   "cell_type": "code",
   "execution_count": 40,
   "id": "523d651b",
   "metadata": {},
   "outputs": [
    {
     "data": {
      "text/html": [
       "<div>\n",
       "<style scoped>\n",
       "    .dataframe tbody tr th:only-of-type {\n",
       "        vertical-align: middle;\n",
       "    }\n",
       "\n",
       "    .dataframe tbody tr th {\n",
       "        vertical-align: top;\n",
       "    }\n",
       "\n",
       "    .dataframe thead th {\n",
       "        text-align: right;\n",
       "    }\n",
       "</style>\n",
       "<table border=\"1\" class=\"dataframe\">\n",
       "  <thead>\n",
       "    <tr style=\"text-align: right;\">\n",
       "      <th></th>\n",
       "      <th>date</th>\n",
       "      <th>group</th>\n",
       "      <th>orders</th>\n",
       "      <th>byers</th>\n",
       "      <th>revenue</th>\n",
       "      <th>visitors</th>\n",
       "    </tr>\n",
       "  </thead>\n",
       "  <tbody>\n",
       "    <tr>\n",
       "      <th>55</th>\n",
       "      <td>2019-08-01</td>\n",
       "      <td>A</td>\n",
       "      <td>23</td>\n",
       "      <td>19</td>\n",
       "      <td>142779</td>\n",
       "      <td>719</td>\n",
       "    </tr>\n",
       "    <tr>\n",
       "      <th>66</th>\n",
       "      <td>2019-08-01</td>\n",
       "      <td>B</td>\n",
       "      <td>17</td>\n",
       "      <td>17</td>\n",
       "      <td>59758</td>\n",
       "      <td>713</td>\n",
       "    </tr>\n",
       "    <tr>\n",
       "      <th>175</th>\n",
       "      <td>2019-08-02</td>\n",
       "      <td>A</td>\n",
       "      <td>42</td>\n",
       "      <td>36</td>\n",
       "      <td>234381</td>\n",
       "      <td>1338</td>\n",
       "    </tr>\n",
       "    <tr>\n",
       "      <th>173</th>\n",
       "      <td>2019-08-02</td>\n",
       "      <td>B</td>\n",
       "      <td>40</td>\n",
       "      <td>39</td>\n",
       "      <td>221801</td>\n",
       "      <td>1294</td>\n",
       "    </tr>\n",
       "    <tr>\n",
       "      <th>291</th>\n",
       "      <td>2019-08-03</td>\n",
       "      <td>A</td>\n",
       "      <td>66</td>\n",
       "      <td>60</td>\n",
       "      <td>346854</td>\n",
       "      <td>1845</td>\n",
       "    </tr>\n",
       "  </tbody>\n",
       "</table>\n",
       "</div>"
      ],
      "text/plain": [
       "          date group  orders  byers  revenue  visitors\n",
       "55  2019-08-01     A      23     19   142779       719\n",
       "66  2019-08-01     B      17     17    59758       713\n",
       "175 2019-08-02     A      42     36   234381      1338\n",
       "173 2019-08-02     B      40     39   221801      1294\n",
       "291 2019-08-03     A      66     60   346854      1845"
      ]
     },
     "execution_count": 40,
     "metadata": {},
     "output_type": "execute_result"
    }
   ],
   "source": [
    "cumulativeData = DATA_ord\n",
    "cumulativeData.rename(columns={'transaction_id': 'orders', 'visitor_id': 'byers'}, inplace=True) # переименование столбцов\n",
    "cumulativeData = DATA_ord.join(DATA_visitors.drop(['date', 'group'], axis=1), sort=False) # объединеие данных\n",
    "\n",
    "cumulativeData.head() # вывод значений"
   ]
  },
  {
   "cell_type": "markdown",
   "id": "a21fd7d9",
   "metadata": {},
   "source": [
    "Необходимо разделить cumulativeData на cumulativeRevenueA и cumulativeRevenueB – для группы А и B аналогичным способом."
   ]
  },
  {
   "cell_type": "code",
   "execution_count": 41,
   "id": "818a5cd5",
   "metadata": {},
   "outputs": [],
   "source": [
    "cumulativeRevenueA = cumulativeData[cumulativeData['group'] == 'A']\n",
    "cumulativeRevenueB = cumulativeData[cumulativeData['group'] == 'B']"
   ]
  },
  {
   "cell_type": "markdown",
   "id": "7d0b242f",
   "metadata": {},
   "source": [
    "С помощью полученных данных нужно изобразить график среднего чека по группам А и В. По оси х – date, по оси y – revenue/ order."
   ]
  },
  {
   "cell_type": "code",
   "execution_count": 49,
   "id": "054ef557",
   "metadata": {},
   "outputs": [
    {
     "data": {
      "image/png": "[encoded data removed]",
      "text/plain": [
       "<Figure size 432x288 with 1 Axes>"
      ]
     },
     "metadata": {
      "needs_background": "light"
     },
     "output_type": "display_data"
    }
   ],
   "source": [
    "fig, ax = plt.subplots()\n",
    "\n",
    "ax.plot(cumulativeRevenueA['date'], cumulativeRevenueA['revenue']/cumulativeRevenueA['orders'], color='green', linewidth=2.0, label = 'A') \n",
    "# график зависимости по группе А, нахождение среднего значения\n",
    "ax.plot(cumulativeRevenueB['date'], cumulativeRevenueB['revenue']/cumulativeRevenueB['orders'], color='magenta', linewidth=2.0, label = 'B')\n",
    "# график зависимости по группе В, нахождение среднего значения\n",
    "\n",
    "ax.set_title(\"График среднего чека по группам А и В\")\n",
    "# подписи осей и графика\n",
    "ax.set_xlabel('Дата')\n",
    "ax.set_ylabel('Средний чек')\n",
    "\n",
    "ax.tick_params(axis='x', rotation=60) # поворот подписи данных по оси x\n",
    "ax.legend() # вывод легенды\n",
    "\n",
    "plt.show() # вывод окна графика"
   ]
  },
  {
   "cell_type": "markdown",
   "id": "1e751bcc",
   "metadata": {},
   "source": [
    "## Вывод:"
   ]
  },
  {
   "cell_type": "markdown",
   "id": "b2eb09c0",
   "metadata": {},
   "source": [
    "По полученным данным можно сделать вывод, что:<br>\n",
    "<li>У группы А с течением времени наблюдается небольшой спад, а в последствии плавный рост среднего чека, что означает, что выросла выручка за заказ. После 2019-08-13 значение среднего чека остается стабильным.<br>\n",
    "<li>У группы B в течении большей части периода наблюдается рост средего чека с резким скачком вверх в 2019-08-17 и последующим плавным спадом."
   ]
  }
 ],
 "metadata": {
  "kernelspec": {
   "display_name": "Python 3 (ipykernel)",
   "language": "python",
   "name": "python3"
  },
  "language_info": {
   "codemirror_mode": {
    "name": "ipython",
    "version": 3
   },
   "file_extension": ".py",
   "mimetype": "text/x-python",
   "name": "python",
   "nbconvert_exporter": "python",
   "pygments_lexer": "ipython3",
   "version": "3.9.12"
  }
 },
 "nbformat": 4,
 "nbformat_minor": 5
}
