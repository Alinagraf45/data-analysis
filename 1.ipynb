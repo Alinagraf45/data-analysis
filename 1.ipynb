{
 "cells": [
  {
   "cell_type": "code",
   "execution_count": 204,
   "id": "09a60cc0",
   "metadata": {},
   "outputs": [],
   "source": [
    "import pandas\n",
    "import numpy as np\n",
    "#подключение библиотек"
   ]
  },
  {
   "cell_type": "markdown",
   "id": "32a563a6",
   "metadata": {},
   "source": [
    "Датасет 2salary.csv содержит различную информацию о зарплатах, такую как год выплаты зарплаты, уровень работы, тип работы, должность, зарплата за год, валюта, зарплата в USD, страна проживания, общий объем удаленной работы, страна главного офиса и среднее количество сотрудников.\n",
    "Вывод первых 20 строк набора данных осуществляется с помощью функции head() библиотеки pandas."
   ]
  },
  {
   "cell_type": "code",
   "execution_count": 205,
   "id": "bd893625",
   "metadata": {
    "scrolled": true
   },
   "outputs": [
    {
     "data": {
      "text/html": [
       "<div>\n",
       "<style scoped>\n",
       "    .dataframe tbody tr th:only-of-type {\n",
       "        vertical-align: middle;\n",
       "    }\n",
       "\n",
       "    .dataframe tbody tr th {\n",
       "        vertical-align: top;\n",
       "    }\n",
       "\n",
       "    .dataframe thead th {\n",
       "        text-align: right;\n",
       "    }\n",
       "</style>\n",
       "<table border=\"1\" class=\"dataframe\">\n",
       "  <thead>\n",
       "    <tr style=\"text-align: right;\">\n",
       "      <th></th>\n",
       "      <th>work_year</th>\n",
       "      <th>experience_level</th>\n",
       "      <th>employment_type</th>\n",
       "      <th>job_title</th>\n",
       "      <th>salary</th>\n",
       "      <th>salary_currency</th>\n",
       "      <th>salary_in_usd</th>\n",
       "      <th>employee_residence</th>\n",
       "      <th>remote_ratio</th>\n",
       "      <th>company_location</th>\n",
       "      <th>company_size</th>\n",
       "    </tr>\n",
       "  </thead>\n",
       "  <tbody>\n",
       "    <tr>\n",
       "      <th>0</th>\n",
       "      <td>2020</td>\n",
       "      <td>MI</td>\n",
       "      <td>FT</td>\n",
       "      <td>Data Scientist</td>\n",
       "      <td>70000.0</td>\n",
       "      <td>EUR</td>\n",
       "      <td>79833</td>\n",
       "      <td>DE</td>\n",
       "      <td>0</td>\n",
       "      <td>DE</td>\n",
       "      <td>L</td>\n",
       "    </tr>\n",
       "    <tr>\n",
       "      <th>1</th>\n",
       "      <td>2020</td>\n",
       "      <td>SE</td>\n",
       "      <td>FT</td>\n",
       "      <td>Machine Learning Scientist</td>\n",
       "      <td>260000.0</td>\n",
       "      <td>USD</td>\n",
       "      <td>260000</td>\n",
       "      <td>JP</td>\n",
       "      <td>0</td>\n",
       "      <td>JP</td>\n",
       "      <td>S</td>\n",
       "    </tr>\n",
       "    <tr>\n",
       "      <th>2</th>\n",
       "      <td>2020</td>\n",
       "      <td>SE</td>\n",
       "      <td>FT</td>\n",
       "      <td>Big Data Engineer</td>\n",
       "      <td>85000.0</td>\n",
       "      <td>GBP</td>\n",
       "      <td>109024</td>\n",
       "      <td>GB</td>\n",
       "      <td>50</td>\n",
       "      <td>GB</td>\n",
       "      <td>M</td>\n",
       "    </tr>\n",
       "    <tr>\n",
       "      <th>3</th>\n",
       "      <td>2020</td>\n",
       "      <td>MI</td>\n",
       "      <td>FT</td>\n",
       "      <td>Product Data Analyst</td>\n",
       "      <td>20000.0</td>\n",
       "      <td>USD</td>\n",
       "      <td>20000</td>\n",
       "      <td>HN</td>\n",
       "      <td>0</td>\n",
       "      <td>HN</td>\n",
       "      <td>S</td>\n",
       "    </tr>\n",
       "    <tr>\n",
       "      <th>4</th>\n",
       "      <td>2020</td>\n",
       "      <td>SE</td>\n",
       "      <td>FT</td>\n",
       "      <td>Machine Learning Engineer</td>\n",
       "      <td>150000.0</td>\n",
       "      <td>USD</td>\n",
       "      <td>150000</td>\n",
       "      <td>US</td>\n",
       "      <td>50</td>\n",
       "      <td>US</td>\n",
       "      <td>L</td>\n",
       "    </tr>\n",
       "    <tr>\n",
       "      <th>5</th>\n",
       "      <td>2020</td>\n",
       "      <td>EN</td>\n",
       "      <td>FT</td>\n",
       "      <td>Data Analyst</td>\n",
       "      <td>72000.0</td>\n",
       "      <td>USD</td>\n",
       "      <td>72000</td>\n",
       "      <td>US</td>\n",
       "      <td>100</td>\n",
       "      <td>US</td>\n",
       "      <td>L</td>\n",
       "    </tr>\n",
       "    <tr>\n",
       "      <th>6</th>\n",
       "      <td>2020</td>\n",
       "      <td>SE</td>\n",
       "      <td>FT</td>\n",
       "      <td>Lead Data Scientist</td>\n",
       "      <td>190000.0</td>\n",
       "      <td>USD</td>\n",
       "      <td>190000</td>\n",
       "      <td>US</td>\n",
       "      <td>100</td>\n",
       "      <td>US</td>\n",
       "      <td>S</td>\n",
       "    </tr>\n",
       "    <tr>\n",
       "      <th>7</th>\n",
       "      <td>2020</td>\n",
       "      <td>MI</td>\n",
       "      <td>FT</td>\n",
       "      <td>Data Scientist</td>\n",
       "      <td>11000000.0</td>\n",
       "      <td>HUF</td>\n",
       "      <td>35735</td>\n",
       "      <td>HU</td>\n",
       "      <td>50</td>\n",
       "      <td>HU</td>\n",
       "      <td>L</td>\n",
       "    </tr>\n",
       "    <tr>\n",
       "      <th>8</th>\n",
       "      <td>2020</td>\n",
       "      <td>MI</td>\n",
       "      <td>FT</td>\n",
       "      <td>Business Data Analyst</td>\n",
       "      <td>135000.0</td>\n",
       "      <td>USD</td>\n",
       "      <td>135000</td>\n",
       "      <td>US</td>\n",
       "      <td>100</td>\n",
       "      <td>US</td>\n",
       "      <td>L</td>\n",
       "    </tr>\n",
       "    <tr>\n",
       "      <th>9</th>\n",
       "      <td>2020</td>\n",
       "      <td>SE</td>\n",
       "      <td>FT</td>\n",
       "      <td>Lead Data Engineer</td>\n",
       "      <td>125000.0</td>\n",
       "      <td>USD</td>\n",
       "      <td>125000</td>\n",
       "      <td>NZ</td>\n",
       "      <td>50</td>\n",
       "      <td>NZ</td>\n",
       "      <td>S</td>\n",
       "    </tr>\n",
       "    <tr>\n",
       "      <th>10</th>\n",
       "      <td>2020</td>\n",
       "      <td>EN</td>\n",
       "      <td>FT</td>\n",
       "      <td>Data Scientist</td>\n",
       "      <td>45000.0</td>\n",
       "      <td>EUR</td>\n",
       "      <td>51321</td>\n",
       "      <td>FR</td>\n",
       "      <td>0</td>\n",
       "      <td>FR</td>\n",
       "      <td>S</td>\n",
       "    </tr>\n",
       "    <tr>\n",
       "      <th>11</th>\n",
       "      <td>2020</td>\n",
       "      <td>MI</td>\n",
       "      <td>FT</td>\n",
       "      <td>Data Scientist</td>\n",
       "      <td>3000000.0</td>\n",
       "      <td>INR</td>\n",
       "      <td>40481</td>\n",
       "      <td>IN</td>\n",
       "      <td>0</td>\n",
       "      <td>IN</td>\n",
       "      <td>L</td>\n",
       "    </tr>\n",
       "    <tr>\n",
       "      <th>12</th>\n",
       "      <td>2020</td>\n",
       "      <td>EN</td>\n",
       "      <td>FT</td>\n",
       "      <td>Data Scientist</td>\n",
       "      <td>35000.0</td>\n",
       "      <td>EUR</td>\n",
       "      <td>39916</td>\n",
       "      <td>FR</td>\n",
       "      <td>0</td>\n",
       "      <td>FR</td>\n",
       "      <td>M</td>\n",
       "    </tr>\n",
       "    <tr>\n",
       "      <th>13</th>\n",
       "      <td>2020</td>\n",
       "      <td>MI</td>\n",
       "      <td>FT</td>\n",
       "      <td>Lead Data Analyst</td>\n",
       "      <td>87000.0</td>\n",
       "      <td>USD</td>\n",
       "      <td>87000</td>\n",
       "      <td>US</td>\n",
       "      <td>100</td>\n",
       "      <td>US</td>\n",
       "      <td>L</td>\n",
       "    </tr>\n",
       "    <tr>\n",
       "      <th>14</th>\n",
       "      <td>2020</td>\n",
       "      <td>MI</td>\n",
       "      <td>FT</td>\n",
       "      <td>Data Analyst</td>\n",
       "      <td>85000.0</td>\n",
       "      <td>USD</td>\n",
       "      <td>85000</td>\n",
       "      <td>US</td>\n",
       "      <td>100</td>\n",
       "      <td>US</td>\n",
       "      <td>L</td>\n",
       "    </tr>\n",
       "    <tr>\n",
       "      <th>15</th>\n",
       "      <td>2020</td>\n",
       "      <td>MI</td>\n",
       "      <td>FT</td>\n",
       "      <td>Data Analyst</td>\n",
       "      <td>8000.0</td>\n",
       "      <td>USD</td>\n",
       "      <td>8000</td>\n",
       "      <td>PK</td>\n",
       "      <td>50</td>\n",
       "      <td>PK</td>\n",
       "      <td>L</td>\n",
       "    </tr>\n",
       "    <tr>\n",
       "      <th>16</th>\n",
       "      <td>2020</td>\n",
       "      <td>EN</td>\n",
       "      <td>FT</td>\n",
       "      <td>Data Engineer</td>\n",
       "      <td>4450000.0</td>\n",
       "      <td>JPY</td>\n",
       "      <td>41689</td>\n",
       "      <td>JP</td>\n",
       "      <td>100</td>\n",
       "      <td>JP</td>\n",
       "      <td>S</td>\n",
       "    </tr>\n",
       "    <tr>\n",
       "      <th>17</th>\n",
       "      <td>2020</td>\n",
       "      <td>SE</td>\n",
       "      <td>FT</td>\n",
       "      <td>Big Data Engineer</td>\n",
       "      <td>100000.0</td>\n",
       "      <td>EUR</td>\n",
       "      <td>114047</td>\n",
       "      <td>PL</td>\n",
       "      <td>100</td>\n",
       "      <td>GB</td>\n",
       "      <td>S</td>\n",
       "    </tr>\n",
       "    <tr>\n",
       "      <th>18</th>\n",
       "      <td>2020</td>\n",
       "      <td>EN</td>\n",
       "      <td>FT</td>\n",
       "      <td>Data Science Consultant</td>\n",
       "      <td>423000.0</td>\n",
       "      <td>INR</td>\n",
       "      <td>5707</td>\n",
       "      <td>IN</td>\n",
       "      <td>50</td>\n",
       "      <td>IN</td>\n",
       "      <td>M</td>\n",
       "    </tr>\n",
       "    <tr>\n",
       "      <th>19</th>\n",
       "      <td>2020</td>\n",
       "      <td>MI</td>\n",
       "      <td>FT</td>\n",
       "      <td>Lead Data Engineer</td>\n",
       "      <td>56000.0</td>\n",
       "      <td>USD</td>\n",
       "      <td>56000</td>\n",
       "      <td>PT</td>\n",
       "      <td>100</td>\n",
       "      <td>US</td>\n",
       "      <td>M</td>\n",
       "    </tr>\n",
       "  </tbody>\n",
       "</table>\n",
       "</div>"
      ],
      "text/plain": [
       "    work_year experience_level employment_type                   job_title  \\\n",
       "0        2020               MI              FT              Data Scientist   \n",
       "1        2020               SE              FT  Machine Learning Scientist   \n",
       "2        2020               SE              FT           Big Data Engineer   \n",
       "3        2020               MI              FT        Product Data Analyst   \n",
       "4        2020               SE              FT   Machine Learning Engineer   \n",
       "5        2020               EN              FT                Data Analyst   \n",
       "6        2020               SE              FT         Lead Data Scientist   \n",
       "7        2020               MI              FT              Data Scientist   \n",
       "8        2020               MI              FT       Business Data Analyst   \n",
       "9        2020               SE              FT          Lead Data Engineer   \n",
       "10       2020               EN              FT              Data Scientist   \n",
       "11       2020               MI              FT              Data Scientist   \n",
       "12       2020               EN              FT              Data Scientist   \n",
       "13       2020               MI              FT           Lead Data Analyst   \n",
       "14       2020               MI              FT                Data Analyst   \n",
       "15       2020               MI              FT                Data Analyst   \n",
       "16       2020               EN              FT               Data Engineer   \n",
       "17       2020               SE              FT           Big Data Engineer   \n",
       "18       2020               EN              FT     Data Science Consultant   \n",
       "19       2020               MI              FT          Lead Data Engineer   \n",
       "\n",
       "        salary salary_currency salary_in_usd employee_residence  remote_ratio  \\\n",
       "0      70000.0             EUR         79833                 DE             0   \n",
       "1     260000.0             USD        260000                 JP             0   \n",
       "2      85000.0             GBP        109024                 GB            50   \n",
       "3      20000.0             USD         20000                 HN             0   \n",
       "4     150000.0             USD        150000                 US            50   \n",
       "5      72000.0             USD         72000                 US           100   \n",
       "6     190000.0             USD        190000                 US           100   \n",
       "7   11000000.0             HUF         35735                 HU            50   \n",
       "8     135000.0             USD        135000                 US           100   \n",
       "9     125000.0             USD        125000                 NZ            50   \n",
       "10     45000.0             EUR         51321                 FR             0   \n",
       "11   3000000.0             INR         40481                 IN             0   \n",
       "12     35000.0             EUR         39916                 FR             0   \n",
       "13     87000.0             USD         87000                 US           100   \n",
       "14     85000.0             USD         85000                 US           100   \n",
       "15      8000.0             USD          8000                 PK            50   \n",
       "16   4450000.0             JPY         41689                 JP           100   \n",
       "17    100000.0             EUR        114047                 PL           100   \n",
       "18    423000.0             INR          5707                 IN            50   \n",
       "19     56000.0             USD         56000                 PT           100   \n",
       "\n",
       "   company_location company_size  \n",
       "0                DE            L  \n",
       "1                JP            S  \n",
       "2                GB            M  \n",
       "3                HN            S  \n",
       "4                US            L  \n",
       "5                US            L  \n",
       "6                US            S  \n",
       "7                HU            L  \n",
       "8                US            L  \n",
       "9                NZ            S  \n",
       "10               FR            S  \n",
       "11               IN            L  \n",
       "12               FR            M  \n",
       "13               US            L  \n",
       "14               US            L  \n",
       "15               PK            L  \n",
       "16               JP            S  \n",
       "17               GB            S  \n",
       "18               IN            M  \n",
       "19               US            M  "
      ]
     },
     "metadata": {},
     "output_type": "display_data"
    }
   ],
   "source": [
    "df = pandas.read_csv('C:\\\\Users\\\\Alina\\\\Downloads\\\\2salary.csv',index_col=0)\n",
    "#полученые данных из файла с датасетом в переменнную df\n",
    "display(df.head(20))\n",
    "#вывод первых 20 значений датасета"
   ]
  },
  {
   "cell_type": "markdown",
   "id": "c8ba923f",
   "metadata": {},
   "source": [
    "Предметной областью анализа является набор данных с информацией о зарплате определенных IT-должностей с разным уровнем профессионализма и временем работы за 2020-2022 год в различных странах и компаниях. Файл содержит колонки: год выплаты зарплаты, уровень работы, тип работы, должность, зарплата за год, валюта, зарплата в USD, страна проживания, общий объем удаленной работы, страна главного офиса и среднее количество сотрудников."
   ]
  },
  {
   "cell_type": "code",
   "execution_count": 206,
   "id": "03a0a0fe",
   "metadata": {},
   "outputs": [
    {
     "name": "stdout",
     "output_type": "stream",
     "text": [
      "<class 'pandas.core.frame.DataFrame'>\n",
      "Int64Index: 610 entries, 0 to 606\n",
      "Data columns (total 11 columns):\n",
      " #   Column              Non-Null Count  Dtype  \n",
      "---  ------              --------------  -----  \n",
      " 0   work_year           610 non-null    int64  \n",
      " 1   experience_level    610 non-null    object \n",
      " 2   employment_type     610 non-null    object \n",
      " 3   job_title           610 non-null    object \n",
      " 4   salary              607 non-null    float64\n",
      " 5   salary_currency     609 non-null    object \n",
      " 6   salary_in_usd       610 non-null    object \n",
      " 7   employee_residence  610 non-null    object \n",
      " 8   remote_ratio        610 non-null    int64  \n",
      " 9   company_location    610 non-null    object \n",
      " 10  company_size        610 non-null    object \n",
      "dtypes: float64(1), int64(2), object(8)\n",
      "memory usage: 57.2+ KB\n"
     ]
    }
   ],
   "source": [
    "df.info()\n",
    "#оценка данных и пропущенных значений"
   ]
  },
  {
   "cell_type": "markdown",
   "id": "c3e97d1a",
   "metadata": {},
   "source": [
    "По результатам использования метода info() для оценки данных можно сделать вывод, что столбец salary и salary_currency имеют пропущенные значения, а некоторые колонки имеют неправильный тип данных"
   ]
  },
  {
   "cell_type": "code",
   "execution_count": 207,
   "id": "5372bd6d",
   "metadata": {},
   "outputs": [
    {
     "data": {
      "text/plain": [
       "Index(['work_year', 'experience_level', 'employment_type', 'job_title',\n",
       "       'salary', 'salary_currency', 'salary_in_usd', 'employee_residence',\n",
       "       'remote_ratio', 'company_location', 'company_size'],\n",
       "      dtype='object')"
      ]
     },
     "execution_count": 207,
     "metadata": {},
     "output_type": "execute_result"
    }
   ],
   "source": [
    "df.columns\n",
    "#названия столбцов для проверки на корректность"
   ]
  },
  {
   "cell_type": "markdown",
   "id": "104993bf",
   "metadata": {},
   "source": [
    "Данные столбцы не содержат повторов в названиях, а названия точно отображают содержимое данных столбцов, в них используется только один язык в змеином регистре, поэтому проблемы с названиями обнаружены не были."
   ]
  },
  {
   "cell_type": "markdown",
   "id": "019a310b",
   "metadata": {},
   "source": [
    "Проверка пропущенных значений осуществляется с помощью метода isna(), а isna().sum() находит сумму пропущенных значений по столбцам."
   ]
  },
  {
   "cell_type": "code",
   "execution_count": 208,
   "id": "04e02d45",
   "metadata": {},
   "outputs": [
    {
     "name": "stdout",
     "output_type": "stream",
     "text": [
      "work_year             0\n",
      "experience_level      0\n",
      "employment_type       0\n",
      "job_title             0\n",
      "salary                3\n",
      "salary_currency       1\n",
      "salary_in_usd         0\n",
      "employee_residence    0\n",
      "remote_ratio          0\n",
      "company_location      0\n",
      "company_size          0\n",
      "dtype: int64\n"
     ]
    }
   ],
   "source": [
    "print(df.isna().sum())\n",
    "#сумма пропущенных значений по столбцам"
   ]
  },
  {
   "cell_type": "markdown",
   "id": "60e391f8",
   "metadata": {},
   "source": [
    "Нужно удалить все строки со значениями NaN, используя метод dropna(), который удаляет все строки со значениями NaN."
   ]
  },
  {
   "cell_type": "code",
   "execution_count": 209,
   "id": "549a9eb0",
   "metadata": {},
   "outputs": [
    {
     "name": "stdout",
     "output_type": "stream",
     "text": [
      "work_year             0\n",
      "experience_level      0\n",
      "employment_type       0\n",
      "job_title             0\n",
      "salary                0\n",
      "salary_currency       0\n",
      "salary_in_usd         0\n",
      "employee_residence    0\n",
      "remote_ratio          0\n",
      "company_location      0\n",
      "company_size          0\n",
      "dtype: int64\n"
     ]
    }
   ],
   "source": [
    "df = df.dropna()\n",
    "#удаление отсутствующих значений\n",
    "print(df.isna().sum())\n",
    "#проверка наличия отсутствующих значений"
   ]
  },
  {
   "cell_type": "markdown",
   "id": "bff33857",
   "metadata": {},
   "source": [
    "Сумма пропущенных значений по всем столбцам равна нулю, что означает, что все пропущенные значения были удалены. "
   ]
  },
  {
   "cell_type": "markdown",
   "id": "add65381",
   "metadata": {},
   "source": [
    "Также необходимо проверить данные на наличие дубликатов, используя метод duplicated().sum() "
   ]
  },
  {
   "cell_type": "code",
   "execution_count": 210,
   "id": "92572e3c",
   "metadata": {},
   "outputs": [
    {
     "name": "stdout",
     "output_type": "stream",
     "text": [
      "41\n"
     ]
    }
   ],
   "source": [
    "print(df.duplicated().sum())\n",
    "#проверка наличия дубликатов"
   ]
  },
  {
   "cell_type": "markdown",
   "id": "43af8c23",
   "metadata": {},
   "source": [
    "Так как дубликаты присутствуют, необходимо их удалить с помощью метода drop_duplicates()."
   ]
  },
  {
   "cell_type": "code",
   "execution_count": 211,
   "id": "4f2f381f",
   "metadata": {},
   "outputs": [
    {
     "name": "stdout",
     "output_type": "stream",
     "text": [
      "0\n"
     ]
    }
   ],
   "source": [
    "df = df.drop_duplicates()\n",
    "#удаление дубликатов\n",
    "print(df.duplicated().sum())\n",
    "#проверка наличия дубликатов после удаления"
   ]
  },
  {
   "cell_type": "markdown",
   "id": "04746d39",
   "metadata": {},
   "source": [
    "Удаление выполнено успешно, так как повторяющихся данных не осталось. После удаления строчек нужно обновить индексацию, чтобы в ней не осталось пропусков, используя метод reset_index(). Он создаст новый датафрейм, где индексы исходного датафрейма станут новой колонкой с названием index и все строки получат обычные индексы, но уже без пропусков."
   ]
  },
  {
   "cell_type": "code",
   "execution_count": 212,
   "id": "991320b9",
   "metadata": {},
   "outputs": [],
   "source": [
    "df = df.drop_duplicates().reset_index()\n",
    "#обновление индексации"
   ]
  },
  {
   "cell_type": "markdown",
   "id": "396df23b",
   "metadata": {},
   "source": [
    "Далее необходимо воспользоваться методом info() для проверки корректности типов данных по столбцам."
   ]
  },
  {
   "cell_type": "code",
   "execution_count": 213,
   "id": "6e0dc131",
   "metadata": {},
   "outputs": [
    {
     "name": "stdout",
     "output_type": "stream",
     "text": [
      "<class 'pandas.core.frame.DataFrame'>\n",
      "RangeIndex: 565 entries, 0 to 564\n",
      "Data columns (total 12 columns):\n",
      " #   Column              Non-Null Count  Dtype  \n",
      "---  ------              --------------  -----  \n",
      " 0   index               565 non-null    int64  \n",
      " 1   work_year           565 non-null    int64  \n",
      " 2   experience_level    565 non-null    object \n",
      " 3   employment_type     565 non-null    object \n",
      " 4   job_title           565 non-null    object \n",
      " 5   salary              565 non-null    float64\n",
      " 6   salary_currency     565 non-null    object \n",
      " 7   salary_in_usd       565 non-null    object \n",
      " 8   employee_residence  565 non-null    object \n",
      " 9   remote_ratio        565 non-null    int64  \n",
      " 10  company_location    565 non-null    object \n",
      " 11  company_size        565 non-null    object \n",
      "dtypes: float64(1), int64(3), object(8)\n",
      "memory usage: 53.1+ KB\n"
     ]
    }
   ],
   "source": [
    "df.info()\n",
    "#проверка типов данных"
   ]
  },
  {
   "cell_type": "markdown",
   "id": "10218aae",
   "metadata": {},
   "source": [
    "По результатам проверки можно сделать вывод, что некоторые колонки имеют неправильный тип данных, который необходимо изменить для упрощения дальнейшей работы с данными. Для замены типа данных нужно воспользоваться методом astype()."
   ]
  },
  {
   "cell_type": "code",
   "execution_count": 214,
   "id": "97185f2a",
   "metadata": {},
   "outputs": [],
   "source": [
    "df['experience_level'] = df['experience_level'].astype('string')\n",
    "df['employment_type'] = df['employment_type'].astype('string')\n",
    "df['job_title'] = df['job_title'].astype('string')\n",
    "df['salary_currency'] = df['salary_currency'].astype('string')\n",
    "df['employee_residence'] = df['employee_residence'].astype('string')\n",
    "df['company_location'] = df['company_location'].astype('string')\n",
    "df['company_size'] = df['company_size'].astype('string')\n",
    "#изменеие типа данных «object» на «string»"
   ]
  },
  {
   "cell_type": "markdown",
   "id": "05932f79",
   "metadata": {},
   "source": [
    "Теперь необходимо проверить корректности типов данных по столбцам после их изменения."
   ]
  },
  {
   "cell_type": "code",
   "execution_count": 215,
   "id": "4af93513",
   "metadata": {},
   "outputs": [
    {
     "name": "stdout",
     "output_type": "stream",
     "text": [
      "<class 'pandas.core.frame.DataFrame'>\n",
      "RangeIndex: 565 entries, 0 to 564\n",
      "Data columns (total 12 columns):\n",
      " #   Column              Non-Null Count  Dtype  \n",
      "---  ------              --------------  -----  \n",
      " 0   index               565 non-null    int64  \n",
      " 1   work_year           565 non-null    int64  \n",
      " 2   experience_level    565 non-null    string \n",
      " 3   employment_type     565 non-null    string \n",
      " 4   job_title           565 non-null    string \n",
      " 5   salary              565 non-null    float64\n",
      " 6   salary_currency     565 non-null    string \n",
      " 7   salary_in_usd       565 non-null    object \n",
      " 8   employee_residence  565 non-null    string \n",
      " 9   remote_ratio        565 non-null    int64  \n",
      " 10  company_location    565 non-null    string \n",
      " 11  company_size        565 non-null    string \n",
      "dtypes: float64(1), int64(3), object(1), string(7)\n",
      "memory usage: 53.1+ KB\n"
     ]
    }
   ],
   "source": [
    "df.info()\n",
    "#проверка изменения"
   ]
  },
  {
   "cell_type": "markdown",
   "id": "5e923de4",
   "metadata": {},
   "source": [
    "Столбец 'salary_in_usd' имеет строковый тип данных, который невозможно изменить из-за некорректного значения зарплаты в одной из строк. Для этого значение нужно изменить с помощью метода replace()."
   ]
  },
  {
   "cell_type": "code",
   "execution_count": 216,
   "id": "e9cd3857",
   "metadata": {},
   "outputs": [],
   "source": [
    "df['salary_in_usd'] = df['salary_in_usd'].replace('d210000', '210000')\n",
    "#обработка некорректного значения данных"
   ]
  },
  {
   "cell_type": "markdown",
   "id": "e1c92ce3",
   "metadata": {},
   "source": [
    "Теперь строковый тип данных можно изменить на числовой без ошибок."
   ]
  },
  {
   "cell_type": "code",
   "execution_count": 217,
   "id": "a82dcf6a",
   "metadata": {},
   "outputs": [],
   "source": [
    "df['salary_in_usd'] = df['salary_in_usd'].astype('int64')\n",
    "#изменение типа «object» на «int»"
   ]
  },
  {
   "cell_type": "markdown",
   "id": "091f4653",
   "metadata": {},
   "source": [
    "Осуществить поиск неявных дубликатов можно с помощью метода unique()."
   ]
  },
  {
   "cell_type": "code",
   "execution_count": 218,
   "id": "8501b723",
   "metadata": {},
   "outputs": [
    {
     "name": "stdout",
     "output_type": "stream",
     "text": [
      "<StringArray>\n",
      "['MI', 'SE', 'EN', 'EX']\n",
      "Length: 4, dtype: string\n",
      "<StringArray>\n",
      "['FT', 'CT', 'PT', 'FL']\n",
      "Length: 4, dtype: string\n",
      "<StringArray>\n",
      "[                          'Data Scientist',\n",
      "               'Machine Learning Scientist',\n",
      "                        'Big Data Engineer',\n",
      "                     'Product Data Analyst',\n",
      "                'Machine Learning Engineer',\n",
      "                             'Data Analyst',\n",
      "                      'Lead Data Scientist',\n",
      "                    'Business Data Analyst',\n",
      "                       'Lead Data Engineer',\n",
      "                        'Lead Data Analyst',\n",
      "                            'Data Engineer',\n",
      "                  'Data Science Consultant',\n",
      "                          'BI Data Analyst',\n",
      "                 'Director of Data Science',\n",
      "                       'Research Scientist',\n",
      "                 'Machine Learning Manager',\n",
      "                 'Data Engineering Manager',\n",
      " 'Machine Learning Infrastructure Engineer',\n",
      "                              'ML Engineer',\n",
      "                             'AI Scientist',\n",
      "                 'Computer Vision Engineer',\n",
      "                 'Principal Data Scientist',\n",
      "                     'Data Science Manager',\n",
      "                             'Head of Data',\n",
      "            '3D Computer Vision Researcher',\n",
      "                  'Data Analytics Engineer',\n",
      "                   'Applied Data Scientist',\n",
      "                   'Marketing Data Analyst',\n",
      "                      'Cloud Data Engineer',\n",
      "                   'Financial Data Analyst',\n",
      "        'Computer Vision Software Engineer',\n",
      "             'Director of Data Engineering',\n",
      "                    'Data Science Engineer',\n",
      "                  'Principal Data Engineer',\n",
      "               'Machine Learning Developer',\n",
      "       'Applied Machine Learning Scientist',\n",
      "                   'Data Analytics Manager',\n",
      "                     'Head of Data Science',\n",
      "                          'Data Specialist',\n",
      "                           'Data Architect',\n",
      "                     'Finance Data Analyst',\n",
      "                   'Principal Data Analyst',\n",
      "                       'Big Data Architect',\n",
      "                     'Staff Data Scientist',\n",
      "                       'Analytics Engineer',\n",
      "                            'ETL Developer',\n",
      "                 'Head of Machine Learning',\n",
      "                             'NLP Engineer',\n",
      "           'Lead Machine Learning Engineer',\n",
      "                      'Data Analytics Lead',\n",
      "                            'DataScientist',\n",
      "                    'Data AnalyticsManager']\n",
      "Length: 52, dtype: string\n",
      "<StringArray>\n",
      "['EUR', 'USD', 'GBP', 'HUF', 'INR', 'JPY', 'CNY', 'MXN', 'CAD', 'DKK', 'PLN',\n",
      " 'SGD', 'CLP', 'BRL', 'TRY', 'AUD', 'CHF']\n",
      "Length: 17, dtype: string\n",
      "<StringArray>\n",
      "['DE', 'JP', 'GB', 'HN', 'US', 'HU', 'NZ', 'FR', 'IN', 'PK', 'PL', 'PT', 'CN',\n",
      " 'GR', 'AE', 'NL', 'MX', 'CA', 'AT', 'NG', 'PH', 'ES', 'DK', 'RU', 'IT', 'HR',\n",
      " 'BG', 'SG', 'BR', 'IQ', 'VN', 'BE', 'UA', 'MT', 'CL', 'RO', 'IR', 'CO', 'MD',\n",
      " 'KE', 'SI', 'HK', 'TR', 'RS', 'PR', 'LU', 'JE', 'CZ', 'AR', 'DZ', 'TN', 'MY',\n",
      " 'EE', 'AU', 'BO', 'IE', 'CH']\n",
      "Length: 57, dtype: string\n",
      "<StringArray>\n",
      "['DE', 'JP', 'GB', 'HN', 'US', 'HU', 'NZ', 'FR', 'IN', 'PK', 'CN', 'GR', 'AE',\n",
      " 'NL', 'MX', 'CA', 'AT', 'NG', 'ES', 'PT', 'DK', 'IT', 'HR', 'LU', 'PL', 'SG',\n",
      " 'RO', 'IQ', 'BR', 'BE', 'UA', 'IL', 'RU', 'MT', 'CL', 'IR', 'CO', 'MD', 'KE',\n",
      " 'SI', 'CH', 'VN', 'AS', 'TR', 'CZ', 'DZ', 'EE', 'MY', 'AU', 'IE']\n",
      "Length: 50, dtype: string\n",
      "<StringArray>\n",
      "['L', 'S', 'M']\n",
      "Length: 3, dtype: string\n"
     ]
    }
   ],
   "source": [
    "for i in range(2, 12):\n",
    "    a = df.columns[i]\n",
    "    if df.dtypes[i] == 'string':\n",
    "        print(df[a].unique())\n",
    "#поиск неявных дубликатов по строковым значениям"
   ]
  },
  {
   "cell_type": "markdown",
   "id": "a9496ece",
   "metadata": {},
   "source": [
    "Все некорректные названия нужно изменить, исправив опечатки тем же методом replace()."
   ]
  },
  {
   "cell_type": "code",
   "execution_count": 219,
   "id": "701b0dc5",
   "metadata": {},
   "outputs": [],
   "source": [
    "df['job_title'] = df['job_title'].replace('DataScientist', 'Data Scientist')\n",
    "df['job_title'] = df['job_title'].replace('Data AnalyticsManager', 'Data Analytics Manager')\n",
    "df['job_title'] = df['job_title'].replace('Data Analytics Lead', 'Lead Data Analyst')\n",
    "df['job_title'] = df['job_title'].replace('Lead Data Analytics', 'Lead Data Analyst')\n",
    "#обработка некорректного значения данных"
   ]
  },
  {
   "cell_type": "markdown",
   "id": "c3907481",
   "metadata": {},
   "source": [
    "Необходимо убедиться в отсутсвии неявных дубликатов."
   ]
  },
  {
   "cell_type": "code",
   "execution_count": 220,
   "id": "c39695ef",
   "metadata": {},
   "outputs": [
    {
     "name": "stdout",
     "output_type": "stream",
     "text": [
      "<StringArray>\n",
      "['MI', 'SE', 'EN', 'EX']\n",
      "Length: 4, dtype: string\n",
      "<StringArray>\n",
      "['FT', 'CT', 'PT', 'FL']\n",
      "Length: 4, dtype: string\n",
      "<StringArray>\n",
      "[                          'Data Scientist',\n",
      "               'Machine Learning Scientist',\n",
      "                        'Big Data Engineer',\n",
      "                     'Product Data Analyst',\n",
      "                'Machine Learning Engineer',\n",
      "                             'Data Analyst',\n",
      "                      'Lead Data Scientist',\n",
      "                    'Business Data Analyst',\n",
      "                       'Lead Data Engineer',\n",
      "                        'Lead Data Analyst',\n",
      "                            'Data Engineer',\n",
      "                  'Data Science Consultant',\n",
      "                          'BI Data Analyst',\n",
      "                 'Director of Data Science',\n",
      "                       'Research Scientist',\n",
      "                 'Machine Learning Manager',\n",
      "                 'Data Engineering Manager',\n",
      " 'Machine Learning Infrastructure Engineer',\n",
      "                              'ML Engineer',\n",
      "                             'AI Scientist',\n",
      "                 'Computer Vision Engineer',\n",
      "                 'Principal Data Scientist',\n",
      "                     'Data Science Manager',\n",
      "                             'Head of Data',\n",
      "            '3D Computer Vision Researcher',\n",
      "                  'Data Analytics Engineer',\n",
      "                   'Applied Data Scientist',\n",
      "                   'Marketing Data Analyst',\n",
      "                      'Cloud Data Engineer',\n",
      "                   'Financial Data Analyst',\n",
      "        'Computer Vision Software Engineer',\n",
      "             'Director of Data Engineering',\n",
      "                    'Data Science Engineer',\n",
      "                  'Principal Data Engineer',\n",
      "               'Machine Learning Developer',\n",
      "       'Applied Machine Learning Scientist',\n",
      "                   'Data Analytics Manager',\n",
      "                     'Head of Data Science',\n",
      "                          'Data Specialist',\n",
      "                           'Data Architect',\n",
      "                     'Finance Data Analyst',\n",
      "                   'Principal Data Analyst',\n",
      "                       'Big Data Architect',\n",
      "                     'Staff Data Scientist',\n",
      "                       'Analytics Engineer',\n",
      "                            'ETL Developer',\n",
      "                 'Head of Machine Learning',\n",
      "                             'NLP Engineer',\n",
      "           'Lead Machine Learning Engineer']\n",
      "Length: 49, dtype: string\n",
      "<StringArray>\n",
      "['EUR', 'USD', 'GBP', 'HUF', 'INR', 'JPY', 'CNY', 'MXN', 'CAD', 'DKK', 'PLN',\n",
      " 'SGD', 'CLP', 'BRL', 'TRY', 'AUD', 'CHF']\n",
      "Length: 17, dtype: string\n",
      "<StringArray>\n",
      "['DE', 'JP', 'GB', 'HN', 'US', 'HU', 'NZ', 'FR', 'IN', 'PK', 'PL', 'PT', 'CN',\n",
      " 'GR', 'AE', 'NL', 'MX', 'CA', 'AT', 'NG', 'PH', 'ES', 'DK', 'RU', 'IT', 'HR',\n",
      " 'BG', 'SG', 'BR', 'IQ', 'VN', 'BE', 'UA', 'MT', 'CL', 'RO', 'IR', 'CO', 'MD',\n",
      " 'KE', 'SI', 'HK', 'TR', 'RS', 'PR', 'LU', 'JE', 'CZ', 'AR', 'DZ', 'TN', 'MY',\n",
      " 'EE', 'AU', 'BO', 'IE', 'CH']\n",
      "Length: 57, dtype: string\n",
      "<StringArray>\n",
      "['DE', 'JP', 'GB', 'HN', 'US', 'HU', 'NZ', 'FR', 'IN', 'PK', 'CN', 'GR', 'AE',\n",
      " 'NL', 'MX', 'CA', 'AT', 'NG', 'ES', 'PT', 'DK', 'IT', 'HR', 'LU', 'PL', 'SG',\n",
      " 'RO', 'IQ', 'BR', 'BE', 'UA', 'IL', 'RU', 'MT', 'CL', 'IR', 'CO', 'MD', 'KE',\n",
      " 'SI', 'CH', 'VN', 'AS', 'TR', 'CZ', 'DZ', 'EE', 'MY', 'AU', 'IE']\n",
      "Length: 50, dtype: string\n",
      "<StringArray>\n",
      "['L', 'S', 'M']\n",
      "Length: 3, dtype: string\n"
     ]
    }
   ],
   "source": [
    "for i in range(2, 12):\n",
    "    a = df.columns[i]\n",
    "    if df.dtypes[i] == 'string':\n",
    "        print(df[a].unique())"
   ]
  },
  {
   "cell_type": "markdown",
   "id": "e0d45c51",
   "metadata": {},
   "source": [
    "Так как дубликаты найдены не были, можно приступать к созданию сводных таблиц. Необходимо создать сводную таблицу средней зарплаты по полному рабочему дню и частичной занятости с указанием страны компании."
   ]
  },
  {
   "cell_type": "code",
   "execution_count": 221,
   "id": "13eabce5",
   "metadata": {},
   "outputs": [
    {
     "data": {
      "text/html": [
       "<div>\n",
       "<style scoped>\n",
       "    .dataframe tbody tr th:only-of-type {\n",
       "        vertical-align: middle;\n",
       "    }\n",
       "\n",
       "    .dataframe tbody tr th {\n",
       "        vertical-align: top;\n",
       "    }\n",
       "\n",
       "    .dataframe thead th {\n",
       "        text-align: right;\n",
       "    }\n",
       "</style>\n",
       "<table border=\"1\" class=\"dataframe\">\n",
       "  <thead>\n",
       "    <tr style=\"text-align: right;\">\n",
       "      <th></th>\n",
       "      <th>index</th>\n",
       "      <th>work_year</th>\n",
       "      <th>experience_level</th>\n",
       "      <th>employment_type</th>\n",
       "      <th>job_title</th>\n",
       "      <th>salary</th>\n",
       "      <th>salary_currency</th>\n",
       "      <th>salary_in_usd</th>\n",
       "      <th>employee_residence</th>\n",
       "      <th>remote_ratio</th>\n",
       "      <th>company_location</th>\n",
       "      <th>company_size</th>\n",
       "    </tr>\n",
       "  </thead>\n",
       "  <tbody>\n",
       "    <tr>\n",
       "      <th>0</th>\n",
       "      <td>0</td>\n",
       "      <td>2020</td>\n",
       "      <td>MI</td>\n",
       "      <td>FT</td>\n",
       "      <td>Data Scientist</td>\n",
       "      <td>70000.0</td>\n",
       "      <td>EUR</td>\n",
       "      <td>79833</td>\n",
       "      <td>DE</td>\n",
       "      <td>0</td>\n",
       "      <td>DE</td>\n",
       "      <td>L</td>\n",
       "    </tr>\n",
       "    <tr>\n",
       "      <th>1</th>\n",
       "      <td>1</td>\n",
       "      <td>2020</td>\n",
       "      <td>SE</td>\n",
       "      <td>FT</td>\n",
       "      <td>Machine Learning Scientist</td>\n",
       "      <td>260000.0</td>\n",
       "      <td>USD</td>\n",
       "      <td>260000</td>\n",
       "      <td>JP</td>\n",
       "      <td>0</td>\n",
       "      <td>JP</td>\n",
       "      <td>S</td>\n",
       "    </tr>\n",
       "    <tr>\n",
       "      <th>2</th>\n",
       "      <td>2</td>\n",
       "      <td>2020</td>\n",
       "      <td>SE</td>\n",
       "      <td>FT</td>\n",
       "      <td>Big Data Engineer</td>\n",
       "      <td>85000.0</td>\n",
       "      <td>GBP</td>\n",
       "      <td>109024</td>\n",
       "      <td>GB</td>\n",
       "      <td>50</td>\n",
       "      <td>GB</td>\n",
       "      <td>M</td>\n",
       "    </tr>\n",
       "    <tr>\n",
       "      <th>3</th>\n",
       "      <td>3</td>\n",
       "      <td>2020</td>\n",
       "      <td>MI</td>\n",
       "      <td>FT</td>\n",
       "      <td>Product Data Analyst</td>\n",
       "      <td>20000.0</td>\n",
       "      <td>USD</td>\n",
       "      <td>20000</td>\n",
       "      <td>HN</td>\n",
       "      <td>0</td>\n",
       "      <td>HN</td>\n",
       "      <td>S</td>\n",
       "    </tr>\n",
       "    <tr>\n",
       "      <th>4</th>\n",
       "      <td>4</td>\n",
       "      <td>2020</td>\n",
       "      <td>SE</td>\n",
       "      <td>FT</td>\n",
       "      <td>Machine Learning Engineer</td>\n",
       "      <td>150000.0</td>\n",
       "      <td>USD</td>\n",
       "      <td>150000</td>\n",
       "      <td>US</td>\n",
       "      <td>50</td>\n",
       "      <td>US</td>\n",
       "      <td>L</td>\n",
       "    </tr>\n",
       "  </tbody>\n",
       "</table>\n",
       "</div>"
      ],
      "text/plain": [
       "   index  work_year experience_level employment_type  \\\n",
       "0      0       2020               MI              FT   \n",
       "1      1       2020               SE              FT   \n",
       "2      2       2020               SE              FT   \n",
       "3      3       2020               MI              FT   \n",
       "4      4       2020               SE              FT   \n",
       "\n",
       "                    job_title    salary salary_currency  salary_in_usd  \\\n",
       "0              Data Scientist   70000.0             EUR          79833   \n",
       "1  Machine Learning Scientist  260000.0             USD         260000   \n",
       "2           Big Data Engineer   85000.0             GBP         109024   \n",
       "3        Product Data Analyst   20000.0             USD          20000   \n",
       "4   Machine Learning Engineer  150000.0             USD         150000   \n",
       "\n",
       "  employee_residence  remote_ratio company_location company_size  \n",
       "0                 DE             0               DE            L  \n",
       "1                 JP             0               JP            S  \n",
       "2                 GB            50               GB            M  \n",
       "3                 HN             0               HN            S  \n",
       "4                 US            50               US            L  "
      ]
     },
     "metadata": {},
     "output_type": "display_data"
    }
   ],
   "source": [
    "display(df.head(5))"
   ]
  },
  {
   "cell_type": "code",
   "execution_count": 222,
   "id": "eb1f7a78",
   "metadata": {},
   "outputs": [
    {
     "name": "stdout",
     "output_type": "stream",
     "text": [
      "<class 'pandas.core.frame.DataFrame'>\n",
      "RangeIndex: 565 entries, 0 to 564\n",
      "Data columns (total 12 columns):\n",
      " #   Column              Non-Null Count  Dtype  \n",
      "---  ------              --------------  -----  \n",
      " 0   index               565 non-null    int64  \n",
      " 1   work_year           565 non-null    int64  \n",
      " 2   experience_level    565 non-null    string \n",
      " 3   employment_type     565 non-null    string \n",
      " 4   job_title           565 non-null    string \n",
      " 5   salary              565 non-null    float64\n",
      " 6   salary_currency     565 non-null    string \n",
      " 7   salary_in_usd       565 non-null    int64  \n",
      " 8   employee_residence  565 non-null    string \n",
      " 9   remote_ratio        565 non-null    int64  \n",
      " 10  company_location    565 non-null    string \n",
      " 11  company_size        565 non-null    string \n",
      "dtypes: float64(1), int64(4), string(7)\n",
      "memory usage: 53.1 KB\n"
     ]
    }
   ],
   "source": [
    "df.info()\n",
    "#оценка данных и пропущенных значений"
   ]
  },
  {
   "cell_type": "code",
   "execution_count": 223,
   "id": "52b63851",
   "metadata": {
    "scrolled": false
   },
   "outputs": [
    {
     "name": "stdout",
     "output_type": "stream",
     "text": [
      "                                          mean\n",
      "                                 salary_in_usd\n",
      "employment_type company_location              \n",
      "FL              PK                     12000.0\n",
      "                US                     60000.0\n",
      "PT              DE                     35461.5\n",
      "                DK                     28609.0\n",
      "                DZ                    100000.0\n",
      "                ES                     10354.0\n",
      "                IN                      5409.0\n",
      "                IT                     21669.0\n",
      "                NL                     69741.0\n",
      "                US                     12000.0\n"
     ]
    }
   ],
   "source": [
    "table = pandas.pivot_table(df, index=['employment_type', 'company_location'], values=[\"salary_in_usd\"], aggfunc=[np.mean])\n",
    "print(table.query('employment_type == [\"FL\"] or employment_type == [\"PT\"]'))\n",
    "#сводная таблица средней зарплаты полного рабочего дня и частичной занятости с указанием страны компании"
   ]
  },
  {
   "cell_type": "markdown",
   "id": "8548bdd3",
   "metadata": {},
   "source": [
    "Также необходимо сделать группировку средней зарплаты по уровню профессионализма с помощью groupby."
   ]
  },
  {
   "cell_type": "code",
   "execution_count": 224,
   "id": "eb7c979b",
   "metadata": {},
   "outputs": [
    {
     "name": "stdout",
     "output_type": "stream",
     "text": [
      "  experience_level      mean_sent\n",
      "0               EN   61643.318182\n",
      "1               EX  199392.038462\n",
      "2               MI   87792.995192\n",
      "3               SE  138838.152263\n"
     ]
    }
   ],
   "source": [
    "df_new = df.groupby('experience_level').agg(mean_sent=('salary_in_usd', 'mean')).reset_index()\n",
    "print(df_new)\n",
    "#группировка средней зарплаты по уровню опыта"
   ]
  },
  {
   "cell_type": "markdown",
   "id": "647c3bec",
   "metadata": {},
   "source": [
    "Сводная таблица средних зарплат по профессиям."
   ]
  },
  {
   "cell_type": "code",
   "execution_count": 226,
   "id": "908b0972",
   "metadata": {
    "scrolled": true
   },
   "outputs": [
    {
     "name": "stdout",
     "output_type": "stream",
     "text": [
      "                                                   mean\n",
      "                                          salary_in_usd\n",
      "job_title                                              \n",
      "3D Computer Vision Researcher               5409.000000\n",
      "AI Scientist                               66135.571429\n",
      "Analytics Engineer                        175000.000000\n",
      "Applied Data Scientist                    175655.000000\n",
      "Applied Machine Learning Scientist        142068.750000\n",
      "BI Data Analyst                            74755.166667\n",
      "Big Data Architect                         99703.000000\n",
      "Big Data Engineer                          51974.000000\n",
      "Business Data Analyst                      76691.200000\n",
      "Cloud Data Engineer                       124647.000000\n",
      "Computer Vision Engineer                   44419.333333\n",
      "Computer Vision Software Engineer         105248.666667\n",
      "Data Analyst                               89374.025000\n",
      "Data Analytics Engineer                    64799.250000\n",
      "Data Analytics Manager                    127134.285714\n",
      "Data Architect                            177873.909091\n",
      "Data Engineer                             109750.033058\n",
      "Data Engineering Manager                  123227.200000\n",
      "Data Science Consultant                    69420.714286\n",
      "Data Science Engineer                      75803.333333\n",
      "Data Science Manager                      158328.500000\n",
      "Data Scientist                            104422.166667\n",
      "Data Specialist                           165000.000000\n",
      "Director of Data Engineering              156738.000000\n",
      "Director of Data Science                  195074.000000\n",
      "ETL Developer                              54957.000000\n",
      "Finance Data Analyst                       61896.000000\n",
      "Financial Data Analyst                    275000.000000\n",
      "Head of Data                              160162.600000\n",
      "Head of Data Science                      146718.750000\n",
      "Head of Machine Learning                   79039.000000\n",
      "Lead Data Analyst                         170402.250000\n",
      "Lead Data Engineer                        139724.500000\n",
      "Lead Data Scientist                       115190.000000\n",
      "Lead Machine Learning Engineer             87932.000000\n",
      "ML Engineer                               117504.000000\n",
      "Machine Learning Developer                 85860.666667\n",
      "Machine Learning Engineer                 101165.128205\n",
      "Machine Learning Infrastructure Engineer  101145.000000\n",
      "Machine Learning Manager                  117104.000000\n",
      "Machine Learning Scientist                158412.500000\n",
      "Marketing Data Analyst                     88654.000000\n",
      "NLP Engineer                               37236.000000\n",
      "Principal Data Analyst                    122500.000000\n",
      "Principal Data Engineer                   328333.333333\n",
      "Principal Data Scientist                  215242.428571\n",
      "Product Data Analyst                       13036.000000\n",
      "Research Scientist                        109019.500000\n",
      "Staff Data Scientist                      105000.000000\n"
     ]
    }
   ],
   "source": [
    "table1 = pandas.pivot_table(df, index=['job_title'], values=['salary_in_usd'], aggfunc=[np.mean])\n",
    "print(table1)\n",
    "#сводная таблица средней зарплаты по профессии"
   ]
  },
  {
   "cell_type": "markdown",
   "id": "e8b5aa3c",
   "metadata": {},
   "source": [
    "По полученным сводным таблицам я могу сделать вывод, что самая высокая зарплата компаний за 2020-2022 в месяц за полный рабочий день в США, а по частичной занятости лидирует Алжир. Также самая высокая средняя зарплата за 2020-2022 в IT у Аналитика финансовых данных, она составляет 275000 долларов, а самая низкая средняя зарплата у исследователя компьютерного 3-d зрения, она составляет 5409 долларов. А также я проанализировала зависимость средней зарплаты от уровня профессионализма за 2020-2022 в IT и выяснила, что позиция джуниора наименее оплачиваемая и составляет 61643 долларов в месяц, а позиция эксперта наиболее оплачиваемая и составляет 199392 долларов в месяц."
   ]
  }
 ],
 "metadata": {
  "kernelspec": {
   "display_name": "Python 3 (ipykernel)",
   "language": "python",
   "name": "python3"
  },
  "language_info": {
   "codemirror_mode": {
    "name": "ipython",
    "version": 3
   },
   "file_extension": ".py",
   "mimetype": "text/x-python",
   "name": "python",
   "nbconvert_exporter": "python",
   "pygments_lexer": "ipython3",
   "version": "3.9.12"
  }
 },
 "nbformat": 4,
 "nbformat_minor": 5
}
